{
  "nbformat": 4,
  "nbformat_minor": 0,
  "metadata": {
    "colab": {
      "name": "03-full_dataset_text_classification.ipynb",
      "provenance": [],
      "collapsed_sections": [],
      "toc_visible": true,
      "include_colab_link": true
    },
    "kernelspec": {
      "name": "python3",
      "display_name": "Python 3"
    },
    "accelerator": "GPU",
    "widgets": {
      "application/vnd.jupyter.widget-state+json": {
        "c98c9af708b74ddda5b15292897bcc98": {
          "model_module": "@jupyter-widgets/controls",
          "model_name": "HBoxModel",
          "state": {
            "_view_name": "HBoxView",
            "_dom_classes": [],
            "_model_name": "HBoxModel",
            "_view_module": "@jupyter-widgets/controls",
            "_model_module_version": "1.5.0",
            "_view_count": null,
            "_view_module_version": "1.5.0",
            "box_style": "",
            "layout": "IPY_MODEL_6a2f8a99463c43eba0c220dc3e70b044",
            "_model_module": "@jupyter-widgets/controls",
            "children": [
              "IPY_MODEL_ac73989fca8b4d758c40a33fe0509e59",
              "IPY_MODEL_5e376b9644cf4d7e9fb6f7db930a9ed9"
            ]
          }
        },
        "6a2f8a99463c43eba0c220dc3e70b044": {
          "model_module": "@jupyter-widgets/base",
          "model_name": "LayoutModel",
          "state": {
            "_view_name": "LayoutView",
            "grid_template_rows": null,
            "right": null,
            "justify_content": null,
            "_view_module": "@jupyter-widgets/base",
            "overflow": null,
            "_model_module_version": "1.2.0",
            "_view_count": null,
            "flex_flow": null,
            "width": null,
            "min_width": null,
            "border": null,
            "align_items": null,
            "bottom": null,
            "_model_module": "@jupyter-widgets/base",
            "top": null,
            "grid_column": null,
            "overflow_y": null,
            "overflow_x": null,
            "grid_auto_flow": null,
            "grid_area": null,
            "grid_template_columns": null,
            "flex": null,
            "_model_name": "LayoutModel",
            "justify_items": null,
            "grid_row": null,
            "max_height": null,
            "align_content": null,
            "visibility": null,
            "align_self": null,
            "height": null,
            "min_height": null,
            "padding": null,
            "grid_auto_rows": null,
            "grid_gap": null,
            "max_width": null,
            "order": null,
            "_view_module_version": "1.2.0",
            "grid_template_areas": null,
            "object_position": null,
            "object_fit": null,
            "grid_auto_columns": null,
            "margin": null,
            "display": null,
            "left": null
          }
        },
        "ac73989fca8b4d758c40a33fe0509e59": {
          "model_module": "@jupyter-widgets/controls",
          "model_name": "FloatProgressModel",
          "state": {
            "_view_name": "ProgressView",
            "style": "IPY_MODEL_fa564fafdf42471face07117c519cf24",
            "_dom_classes": [],
            "description": "100%",
            "_model_name": "FloatProgressModel",
            "bar_style": "success",
            "max": 128000,
            "_view_module": "@jupyter-widgets/controls",
            "_model_module_version": "1.5.0",
            "value": 128000,
            "_view_count": null,
            "_view_module_version": "1.5.0",
            "orientation": "horizontal",
            "min": 0,
            "description_tooltip": null,
            "_model_module": "@jupyter-widgets/controls",
            "layout": "IPY_MODEL_9efd752a5b5542c7accd398580a3c594"
          }
        },
        "5e376b9644cf4d7e9fb6f7db930a9ed9": {
          "model_module": "@jupyter-widgets/controls",
          "model_name": "HTMLModel",
          "state": {
            "_view_name": "HTMLView",
            "style": "IPY_MODEL_d6c329e3fb5a4a0f8fe991f8c321b68a",
            "_dom_classes": [],
            "description": "",
            "_model_name": "HTMLModel",
            "placeholder": "​",
            "_view_module": "@jupyter-widgets/controls",
            "_model_module_version": "1.5.0",
            "value": " 128000/128000 [00:22&lt;00:00, 5663.26it/s]",
            "_view_count": null,
            "_view_module_version": "1.5.0",
            "description_tooltip": null,
            "_model_module": "@jupyter-widgets/controls",
            "layout": "IPY_MODEL_b911ad4c11244d7cba5eea38f2c48669"
          }
        },
        "fa564fafdf42471face07117c519cf24": {
          "model_module": "@jupyter-widgets/controls",
          "model_name": "ProgressStyleModel",
          "state": {
            "_view_name": "StyleView",
            "_model_name": "ProgressStyleModel",
            "description_width": "initial",
            "_view_module": "@jupyter-widgets/base",
            "_model_module_version": "1.5.0",
            "_view_count": null,
            "_view_module_version": "1.2.0",
            "bar_color": null,
            "_model_module": "@jupyter-widgets/controls"
          }
        },
        "9efd752a5b5542c7accd398580a3c594": {
          "model_module": "@jupyter-widgets/base",
          "model_name": "LayoutModel",
          "state": {
            "_view_name": "LayoutView",
            "grid_template_rows": null,
            "right": null,
            "justify_content": null,
            "_view_module": "@jupyter-widgets/base",
            "overflow": null,
            "_model_module_version": "1.2.0",
            "_view_count": null,
            "flex_flow": null,
            "width": null,
            "min_width": null,
            "border": null,
            "align_items": null,
            "bottom": null,
            "_model_module": "@jupyter-widgets/base",
            "top": null,
            "grid_column": null,
            "overflow_y": null,
            "overflow_x": null,
            "grid_auto_flow": null,
            "grid_area": null,
            "grid_template_columns": null,
            "flex": null,
            "_model_name": "LayoutModel",
            "justify_items": null,
            "grid_row": null,
            "max_height": null,
            "align_content": null,
            "visibility": null,
            "align_self": null,
            "height": null,
            "min_height": null,
            "padding": null,
            "grid_auto_rows": null,
            "grid_gap": null,
            "max_width": null,
            "order": null,
            "_view_module_version": "1.2.0",
            "grid_template_areas": null,
            "object_position": null,
            "object_fit": null,
            "grid_auto_columns": null,
            "margin": null,
            "display": null,
            "left": null
          }
        },
        "d6c329e3fb5a4a0f8fe991f8c321b68a": {
          "model_module": "@jupyter-widgets/controls",
          "model_name": "DescriptionStyleModel",
          "state": {
            "_view_name": "StyleView",
            "_model_name": "DescriptionStyleModel",
            "description_width": "",
            "_view_module": "@jupyter-widgets/base",
            "_model_module_version": "1.5.0",
            "_view_count": null,
            "_view_module_version": "1.2.0",
            "_model_module": "@jupyter-widgets/controls"
          }
        },
        "b911ad4c11244d7cba5eea38f2c48669": {
          "model_module": "@jupyter-widgets/base",
          "model_name": "LayoutModel",
          "state": {
            "_view_name": "LayoutView",
            "grid_template_rows": null,
            "right": null,
            "justify_content": null,
            "_view_module": "@jupyter-widgets/base",
            "overflow": null,
            "_model_module_version": "1.2.0",
            "_view_count": null,
            "flex_flow": null,
            "width": null,
            "min_width": null,
            "border": null,
            "align_items": null,
            "bottom": null,
            "_model_module": "@jupyter-widgets/base",
            "top": null,
            "grid_column": null,
            "overflow_y": null,
            "overflow_x": null,
            "grid_auto_flow": null,
            "grid_area": null,
            "grid_template_columns": null,
            "flex": null,
            "_model_name": "LayoutModel",
            "justify_items": null,
            "grid_row": null,
            "max_height": null,
            "align_content": null,
            "visibility": null,
            "align_self": null,
            "height": null,
            "min_height": null,
            "padding": null,
            "grid_auto_rows": null,
            "grid_gap": null,
            "max_width": null,
            "order": null,
            "_view_module_version": "1.2.0",
            "grid_template_areas": null,
            "object_position": null,
            "object_fit": null,
            "grid_auto_columns": null,
            "margin": null,
            "display": null,
            "left": null
          }
        },
        "72f80e8b10bd44d3b4cb249436ccf214": {
          "model_module": "@jupyter-widgets/controls",
          "model_name": "HBoxModel",
          "state": {
            "_view_name": "HBoxView",
            "_dom_classes": [],
            "_model_name": "HBoxModel",
            "_view_module": "@jupyter-widgets/controls",
            "_model_module_version": "1.5.0",
            "_view_count": null,
            "_view_module_version": "1.5.0",
            "box_style": "",
            "layout": "IPY_MODEL_69cb4a4a49874b1db968822f4069323e",
            "_model_module": "@jupyter-widgets/controls",
            "children": [
              "IPY_MODEL_ad6e8ad84cdc4984b86bde750e31ad8c",
              "IPY_MODEL_3f1d0cc63e754ae994da338e2a56e7a0"
            ]
          }
        },
        "69cb4a4a49874b1db968822f4069323e": {
          "model_module": "@jupyter-widgets/base",
          "model_name": "LayoutModel",
          "state": {
            "_view_name": "LayoutView",
            "grid_template_rows": null,
            "right": null,
            "justify_content": null,
            "_view_module": "@jupyter-widgets/base",
            "overflow": null,
            "_model_module_version": "1.2.0",
            "_view_count": null,
            "flex_flow": null,
            "width": null,
            "min_width": null,
            "border": null,
            "align_items": null,
            "bottom": null,
            "_model_module": "@jupyter-widgets/base",
            "top": null,
            "grid_column": null,
            "overflow_y": null,
            "overflow_x": null,
            "grid_auto_flow": null,
            "grid_area": null,
            "grid_template_columns": null,
            "flex": null,
            "_model_name": "LayoutModel",
            "justify_items": null,
            "grid_row": null,
            "max_height": null,
            "align_content": null,
            "visibility": null,
            "align_self": null,
            "height": null,
            "min_height": null,
            "padding": null,
            "grid_auto_rows": null,
            "grid_gap": null,
            "max_width": null,
            "order": null,
            "_view_module_version": "1.2.0",
            "grid_template_areas": null,
            "object_position": null,
            "object_fit": null,
            "grid_auto_columns": null,
            "margin": null,
            "display": null,
            "left": null
          }
        },
        "ad6e8ad84cdc4984b86bde750e31ad8c": {
          "model_module": "@jupyter-widgets/controls",
          "model_name": "FloatProgressModel",
          "state": {
            "_view_name": "ProgressView",
            "style": "IPY_MODEL_726ac0d443fc4eff8ecdfdcdde8690de",
            "_dom_classes": [],
            "description": "100%",
            "_model_name": "FloatProgressModel",
            "bar_style": "success",
            "max": 115200,
            "_view_module": "@jupyter-widgets/controls",
            "_model_module_version": "1.5.0",
            "value": 115200,
            "_view_count": null,
            "_view_module_version": "1.5.0",
            "orientation": "horizontal",
            "min": 0,
            "description_tooltip": null,
            "_model_module": "@jupyter-widgets/controls",
            "layout": "IPY_MODEL_0f3d89687ba54a50b013d2d2d1ecd3a4"
          }
        },
        "3f1d0cc63e754ae994da338e2a56e7a0": {
          "model_module": "@jupyter-widgets/controls",
          "model_name": "HTMLModel",
          "state": {
            "_view_name": "HTMLView",
            "style": "IPY_MODEL_fba9c9335c49463d8627daece957c6bc",
            "_dom_classes": [],
            "description": "",
            "_model_name": "HTMLModel",
            "placeholder": "​",
            "_view_module": "@jupyter-widgets/controls",
            "_model_module_version": "1.5.0",
            "value": " 115200/115200 [00:20&lt;00:00, 5730.35it/s]",
            "_view_count": null,
            "_view_module_version": "1.5.0",
            "description_tooltip": null,
            "_model_module": "@jupyter-widgets/controls",
            "layout": "IPY_MODEL_2ebb104a55a14fa5970fda180d38d2c4"
          }
        },
        "726ac0d443fc4eff8ecdfdcdde8690de": {
          "model_module": "@jupyter-widgets/controls",
          "model_name": "ProgressStyleModel",
          "state": {
            "_view_name": "StyleView",
            "_model_name": "ProgressStyleModel",
            "description_width": "initial",
            "_view_module": "@jupyter-widgets/base",
            "_model_module_version": "1.5.0",
            "_view_count": null,
            "_view_module_version": "1.2.0",
            "bar_color": null,
            "_model_module": "@jupyter-widgets/controls"
          }
        },
        "0f3d89687ba54a50b013d2d2d1ecd3a4": {
          "model_module": "@jupyter-widgets/base",
          "model_name": "LayoutModel",
          "state": {
            "_view_name": "LayoutView",
            "grid_template_rows": null,
            "right": null,
            "justify_content": null,
            "_view_module": "@jupyter-widgets/base",
            "overflow": null,
            "_model_module_version": "1.2.0",
            "_view_count": null,
            "flex_flow": null,
            "width": null,
            "min_width": null,
            "border": null,
            "align_items": null,
            "bottom": null,
            "_model_module": "@jupyter-widgets/base",
            "top": null,
            "grid_column": null,
            "overflow_y": null,
            "overflow_x": null,
            "grid_auto_flow": null,
            "grid_area": null,
            "grid_template_columns": null,
            "flex": null,
            "_model_name": "LayoutModel",
            "justify_items": null,
            "grid_row": null,
            "max_height": null,
            "align_content": null,
            "visibility": null,
            "align_self": null,
            "height": null,
            "min_height": null,
            "padding": null,
            "grid_auto_rows": null,
            "grid_gap": null,
            "max_width": null,
            "order": null,
            "_view_module_version": "1.2.0",
            "grid_template_areas": null,
            "object_position": null,
            "object_fit": null,
            "grid_auto_columns": null,
            "margin": null,
            "display": null,
            "left": null
          }
        },
        "fba9c9335c49463d8627daece957c6bc": {
          "model_module": "@jupyter-widgets/controls",
          "model_name": "DescriptionStyleModel",
          "state": {
            "_view_name": "StyleView",
            "_model_name": "DescriptionStyleModel",
            "description_width": "",
            "_view_module": "@jupyter-widgets/base",
            "_model_module_version": "1.5.0",
            "_view_count": null,
            "_view_module_version": "1.2.0",
            "_model_module": "@jupyter-widgets/controls"
          }
        },
        "2ebb104a55a14fa5970fda180d38d2c4": {
          "model_module": "@jupyter-widgets/base",
          "model_name": "LayoutModel",
          "state": {
            "_view_name": "LayoutView",
            "grid_template_rows": null,
            "right": null,
            "justify_content": null,
            "_view_module": "@jupyter-widgets/base",
            "overflow": null,
            "_model_module_version": "1.2.0",
            "_view_count": null,
            "flex_flow": null,
            "width": null,
            "min_width": null,
            "border": null,
            "align_items": null,
            "bottom": null,
            "_model_module": "@jupyter-widgets/base",
            "top": null,
            "grid_column": null,
            "overflow_y": null,
            "overflow_x": null,
            "grid_auto_flow": null,
            "grid_area": null,
            "grid_template_columns": null,
            "flex": null,
            "_model_name": "LayoutModel",
            "justify_items": null,
            "grid_row": null,
            "max_height": null,
            "align_content": null,
            "visibility": null,
            "align_self": null,
            "height": null,
            "min_height": null,
            "padding": null,
            "grid_auto_rows": null,
            "grid_gap": null,
            "max_width": null,
            "order": null,
            "_view_module_version": "1.2.0",
            "grid_template_areas": null,
            "object_position": null,
            "object_fit": null,
            "grid_auto_columns": null,
            "margin": null,
            "display": null,
            "left": null
          }
        },
        "8fa82727d8b3479e93ce83c5b586e5d5": {
          "model_module": "@jupyter-widgets/controls",
          "model_name": "HBoxModel",
          "state": {
            "_view_name": "HBoxView",
            "_dom_classes": [],
            "_model_name": "HBoxModel",
            "_view_module": "@jupyter-widgets/controls",
            "_model_module_version": "1.5.0",
            "_view_count": null,
            "_view_module_version": "1.5.0",
            "box_style": "",
            "layout": "IPY_MODEL_25ddecc1443745c8ad4ef0c95034b2ff",
            "_model_module": "@jupyter-widgets/controls",
            "children": [
              "IPY_MODEL_c07422fbb3d84842ae278862dcd2077f",
              "IPY_MODEL_22d0d10bb8da44dc88c92aaeb8c12ae3"
            ]
          }
        },
        "25ddecc1443745c8ad4ef0c95034b2ff": {
          "model_module": "@jupyter-widgets/base",
          "model_name": "LayoutModel",
          "state": {
            "_view_name": "LayoutView",
            "grid_template_rows": null,
            "right": null,
            "justify_content": null,
            "_view_module": "@jupyter-widgets/base",
            "overflow": null,
            "_model_module_version": "1.2.0",
            "_view_count": null,
            "flex_flow": null,
            "width": null,
            "min_width": null,
            "border": null,
            "align_items": null,
            "bottom": null,
            "_model_module": "@jupyter-widgets/base",
            "top": null,
            "grid_column": null,
            "overflow_y": null,
            "overflow_x": null,
            "grid_auto_flow": null,
            "grid_area": null,
            "grid_template_columns": null,
            "flex": null,
            "_model_name": "LayoutModel",
            "justify_items": null,
            "grid_row": null,
            "max_height": null,
            "align_content": null,
            "visibility": null,
            "align_self": null,
            "height": null,
            "min_height": null,
            "padding": null,
            "grid_auto_rows": null,
            "grid_gap": null,
            "max_width": null,
            "order": null,
            "_view_module_version": "1.2.0",
            "grid_template_areas": null,
            "object_position": null,
            "object_fit": null,
            "grid_auto_columns": null,
            "margin": null,
            "display": null,
            "left": null
          }
        },
        "c07422fbb3d84842ae278862dcd2077f": {
          "model_module": "@jupyter-widgets/controls",
          "model_name": "FloatProgressModel",
          "state": {
            "_view_name": "ProgressView",
            "style": "IPY_MODEL_052f5bdb41e4432aa642b4ffc49e279a",
            "_dom_classes": [],
            "description": "100%",
            "_model_name": "FloatProgressModel",
            "bar_style": "success",
            "max": 1036800,
            "_view_module": "@jupyter-widgets/controls",
            "_model_module_version": "1.5.0",
            "value": 1036800,
            "_view_count": null,
            "_view_module_version": "1.5.0",
            "orientation": "horizontal",
            "min": 0,
            "description_tooltip": null,
            "_model_module": "@jupyter-widgets/controls",
            "layout": "IPY_MODEL_70153ede7e3341fabb43d369e007e8cb"
          }
        },
        "22d0d10bb8da44dc88c92aaeb8c12ae3": {
          "model_module": "@jupyter-widgets/controls",
          "model_name": "HTMLModel",
          "state": {
            "_view_name": "HTMLView",
            "style": "IPY_MODEL_5ff5af9dbd2c4b84a9bc042b20824f37",
            "_dom_classes": [],
            "description": "",
            "_model_name": "HTMLModel",
            "placeholder": "​",
            "_view_module": "@jupyter-widgets/controls",
            "_model_module_version": "1.5.0",
            "value": " 1036800/1036800 [02:47&lt;00:00, 6204.18it/s]",
            "_view_count": null,
            "_view_module_version": "1.5.0",
            "description_tooltip": null,
            "_model_module": "@jupyter-widgets/controls",
            "layout": "IPY_MODEL_414a968418db4486a08523eb5ae203e3"
          }
        },
        "052f5bdb41e4432aa642b4ffc49e279a": {
          "model_module": "@jupyter-widgets/controls",
          "model_name": "ProgressStyleModel",
          "state": {
            "_view_name": "StyleView",
            "_model_name": "ProgressStyleModel",
            "description_width": "initial",
            "_view_module": "@jupyter-widgets/base",
            "_model_module_version": "1.5.0",
            "_view_count": null,
            "_view_module_version": "1.2.0",
            "bar_color": null,
            "_model_module": "@jupyter-widgets/controls"
          }
        },
        "70153ede7e3341fabb43d369e007e8cb": {
          "model_module": "@jupyter-widgets/base",
          "model_name": "LayoutModel",
          "state": {
            "_view_name": "LayoutView",
            "grid_template_rows": null,
            "right": null,
            "justify_content": null,
            "_view_module": "@jupyter-widgets/base",
            "overflow": null,
            "_model_module_version": "1.2.0",
            "_view_count": null,
            "flex_flow": null,
            "width": null,
            "min_width": null,
            "border": null,
            "align_items": null,
            "bottom": null,
            "_model_module": "@jupyter-widgets/base",
            "top": null,
            "grid_column": null,
            "overflow_y": null,
            "overflow_x": null,
            "grid_auto_flow": null,
            "grid_area": null,
            "grid_template_columns": null,
            "flex": null,
            "_model_name": "LayoutModel",
            "justify_items": null,
            "grid_row": null,
            "max_height": null,
            "align_content": null,
            "visibility": null,
            "align_self": null,
            "height": null,
            "min_height": null,
            "padding": null,
            "grid_auto_rows": null,
            "grid_gap": null,
            "max_width": null,
            "order": null,
            "_view_module_version": "1.2.0",
            "grid_template_areas": null,
            "object_position": null,
            "object_fit": null,
            "grid_auto_columns": null,
            "margin": null,
            "display": null,
            "left": null
          }
        },
        "5ff5af9dbd2c4b84a9bc042b20824f37": {
          "model_module": "@jupyter-widgets/controls",
          "model_name": "DescriptionStyleModel",
          "state": {
            "_view_name": "StyleView",
            "_model_name": "DescriptionStyleModel",
            "description_width": "",
            "_view_module": "@jupyter-widgets/base",
            "_model_module_version": "1.5.0",
            "_view_count": null,
            "_view_module_version": "1.2.0",
            "_model_module": "@jupyter-widgets/controls"
          }
        },
        "414a968418db4486a08523eb5ae203e3": {
          "model_module": "@jupyter-widgets/base",
          "model_name": "LayoutModel",
          "state": {
            "_view_name": "LayoutView",
            "grid_template_rows": null,
            "right": null,
            "justify_content": null,
            "_view_module": "@jupyter-widgets/base",
            "overflow": null,
            "_model_module_version": "1.2.0",
            "_view_count": null,
            "flex_flow": null,
            "width": null,
            "min_width": null,
            "border": null,
            "align_items": null,
            "bottom": null,
            "_model_module": "@jupyter-widgets/base",
            "top": null,
            "grid_column": null,
            "overflow_y": null,
            "overflow_x": null,
            "grid_auto_flow": null,
            "grid_area": null,
            "grid_template_columns": null,
            "flex": null,
            "_model_name": "LayoutModel",
            "justify_items": null,
            "grid_row": null,
            "max_height": null,
            "align_content": null,
            "visibility": null,
            "align_self": null,
            "height": null,
            "min_height": null,
            "padding": null,
            "grid_auto_rows": null,
            "grid_gap": null,
            "max_width": null,
            "order": null,
            "_view_module_version": "1.2.0",
            "grid_template_areas": null,
            "object_position": null,
            "object_fit": null,
            "grid_auto_columns": null,
            "margin": null,
            "display": null,
            "left": null
          }
        },
        "88c15c5cfd8641ff99ac2a6ddb7c44c3": {
          "model_module": "@jupyter-widgets/controls",
          "model_name": "HBoxModel",
          "state": {
            "_view_name": "HBoxView",
            "_dom_classes": [],
            "_model_name": "HBoxModel",
            "_view_module": "@jupyter-widgets/controls",
            "_model_module_version": "1.5.0",
            "_view_count": null,
            "_view_module_version": "1.5.0",
            "box_style": "",
            "layout": "IPY_MODEL_4ddf2e37e07e4d7fa79509d3136fd655",
            "_model_module": "@jupyter-widgets/controls",
            "children": [
              "IPY_MODEL_fad58537134f448caf88938abfa26a69",
              "IPY_MODEL_78ad39d799d846b2884102dd3b9e4fa8"
            ]
          }
        },
        "4ddf2e37e07e4d7fa79509d3136fd655": {
          "model_module": "@jupyter-widgets/base",
          "model_name": "LayoutModel",
          "state": {
            "_view_name": "LayoutView",
            "grid_template_rows": null,
            "right": null,
            "justify_content": null,
            "_view_module": "@jupyter-widgets/base",
            "overflow": null,
            "_model_module_version": "1.2.0",
            "_view_count": null,
            "flex_flow": null,
            "width": null,
            "min_width": null,
            "border": null,
            "align_items": null,
            "bottom": null,
            "_model_module": "@jupyter-widgets/base",
            "top": null,
            "grid_column": null,
            "overflow_y": null,
            "overflow_x": null,
            "grid_auto_flow": null,
            "grid_area": null,
            "grid_template_columns": null,
            "flex": null,
            "_model_name": "LayoutModel",
            "justify_items": null,
            "grid_row": null,
            "max_height": null,
            "align_content": null,
            "visibility": null,
            "align_self": null,
            "height": null,
            "min_height": null,
            "padding": null,
            "grid_auto_rows": null,
            "grid_gap": null,
            "max_width": null,
            "order": null,
            "_view_module_version": "1.2.0",
            "grid_template_areas": null,
            "object_position": null,
            "object_fit": null,
            "grid_auto_columns": null,
            "margin": null,
            "display": null,
            "left": null
          }
        },
        "fad58537134f448caf88938abfa26a69": {
          "model_module": "@jupyter-widgets/controls",
          "model_name": "FloatProgressModel",
          "state": {
            "_view_name": "ProgressView",
            "style": "IPY_MODEL_0a561d370fa24bd9adf71ee9cb427d26",
            "_dom_classes": [],
            "description": "100%",
            "_model_name": "FloatProgressModel",
            "bar_style": "success",
            "max": 10368,
            "_view_module": "@jupyter-widgets/controls",
            "_model_module_version": "1.5.0",
            "value": 10368,
            "_view_count": null,
            "_view_module_version": "1.5.0",
            "orientation": "horizontal",
            "min": 0,
            "description_tooltip": null,
            "_model_module": "@jupyter-widgets/controls",
            "layout": "IPY_MODEL_1bef79e586a44ef5a2cf1c3410d028d7"
          }
        },
        "78ad39d799d846b2884102dd3b9e4fa8": {
          "model_module": "@jupyter-widgets/controls",
          "model_name": "HTMLModel",
          "state": {
            "_view_name": "HTMLView",
            "style": "IPY_MODEL_b6c423299a7d4424b979a25ca638dd3e",
            "_dom_classes": [],
            "description": "",
            "_model_name": "HTMLModel",
            "placeholder": "​",
            "_view_module": "@jupyter-widgets/controls",
            "_model_module_version": "1.5.0",
            "value": " 10368/10368 [00:23&lt;00:00, 438.72it/s]",
            "_view_count": null,
            "_view_module_version": "1.5.0",
            "description_tooltip": null,
            "_model_module": "@jupyter-widgets/controls",
            "layout": "IPY_MODEL_16f32de5f9694c089c62b4e8df87c8c5"
          }
        },
        "0a561d370fa24bd9adf71ee9cb427d26": {
          "model_module": "@jupyter-widgets/controls",
          "model_name": "ProgressStyleModel",
          "state": {
            "_view_name": "StyleView",
            "_model_name": "ProgressStyleModel",
            "description_width": "initial",
            "_view_module": "@jupyter-widgets/base",
            "_model_module_version": "1.5.0",
            "_view_count": null,
            "_view_module_version": "1.2.0",
            "bar_color": null,
            "_model_module": "@jupyter-widgets/controls"
          }
        },
        "1bef79e586a44ef5a2cf1c3410d028d7": {
          "model_module": "@jupyter-widgets/base",
          "model_name": "LayoutModel",
          "state": {
            "_view_name": "LayoutView",
            "grid_template_rows": null,
            "right": null,
            "justify_content": null,
            "_view_module": "@jupyter-widgets/base",
            "overflow": null,
            "_model_module_version": "1.2.0",
            "_view_count": null,
            "flex_flow": null,
            "width": null,
            "min_width": null,
            "border": null,
            "align_items": null,
            "bottom": null,
            "_model_module": "@jupyter-widgets/base",
            "top": null,
            "grid_column": null,
            "overflow_y": null,
            "overflow_x": null,
            "grid_auto_flow": null,
            "grid_area": null,
            "grid_template_columns": null,
            "flex": null,
            "_model_name": "LayoutModel",
            "justify_items": null,
            "grid_row": null,
            "max_height": null,
            "align_content": null,
            "visibility": null,
            "align_self": null,
            "height": null,
            "min_height": null,
            "padding": null,
            "grid_auto_rows": null,
            "grid_gap": null,
            "max_width": null,
            "order": null,
            "_view_module_version": "1.2.0",
            "grid_template_areas": null,
            "object_position": null,
            "object_fit": null,
            "grid_auto_columns": null,
            "margin": null,
            "display": null,
            "left": null
          }
        },
        "b6c423299a7d4424b979a25ca638dd3e": {
          "model_module": "@jupyter-widgets/controls",
          "model_name": "DescriptionStyleModel",
          "state": {
            "_view_name": "StyleView",
            "_model_name": "DescriptionStyleModel",
            "description_width": "",
            "_view_module": "@jupyter-widgets/base",
            "_model_module_version": "1.5.0",
            "_view_count": null,
            "_view_module_version": "1.2.0",
            "_model_module": "@jupyter-widgets/controls"
          }
        },
        "16f32de5f9694c089c62b4e8df87c8c5": {
          "model_module": "@jupyter-widgets/base",
          "model_name": "LayoutModel",
          "state": {
            "_view_name": "LayoutView",
            "grid_template_rows": null,
            "right": null,
            "justify_content": null,
            "_view_module": "@jupyter-widgets/base",
            "overflow": null,
            "_model_module_version": "1.2.0",
            "_view_count": null,
            "flex_flow": null,
            "width": null,
            "min_width": null,
            "border": null,
            "align_items": null,
            "bottom": null,
            "_model_module": "@jupyter-widgets/base",
            "top": null,
            "grid_column": null,
            "overflow_y": null,
            "overflow_x": null,
            "grid_auto_flow": null,
            "grid_area": null,
            "grid_template_columns": null,
            "flex": null,
            "_model_name": "LayoutModel",
            "justify_items": null,
            "grid_row": null,
            "max_height": null,
            "align_content": null,
            "visibility": null,
            "align_self": null,
            "height": null,
            "min_height": null,
            "padding": null,
            "grid_auto_rows": null,
            "grid_gap": null,
            "max_width": null,
            "order": null,
            "_view_module_version": "1.2.0",
            "grid_template_areas": null,
            "object_position": null,
            "object_fit": null,
            "grid_auto_columns": null,
            "margin": null,
            "display": null,
            "left": null
          }
        }
      }
    }
  },
  "cells": [
    {
      "cell_type": "markdown",
      "metadata": {
        "id": "view-in-github",
        "colab_type": "text"
      },
      "source": [
        "<a href=\"https://colab.research.google.com/github/JonathanLoscalzo/pytorch-tutorials/blob/master/Deep%20Learning%20with%20Pytorch/03_full_dataset_text_classification.ipynb\" target=\"_parent\"><img src=\"https://colab.research.google.com/assets/colab-badge.svg\" alt=\"Open In Colab\"/></a>"
      ]
    },
    {
      "cell_type": "markdown",
      "metadata": {
        "id": "eZeZLLigdNXk",
        "colab_type": "text"
      },
      "source": [
        "# Deep Learning and text\n"
      ]
    },
    {
      "cell_type": "code",
      "metadata": {
        "id": "_rWOOOtXngdQ",
        "colab_type": "code",
        "colab": {}
      },
      "source": [
        "import matplotlib.pyplot as plt\n",
        "import numpy as np\n",
        "plt.style.use('ggplot')\n",
        "from tqdm.notebook import trange, tqdm\n"
      ],
      "execution_count": 0,
      "outputs": []
    },
    {
      "cell_type": "code",
      "metadata": {
        "id": "NW-oJId5Vp-a",
        "colab_type": "code",
        "colab": {}
      },
      "source": [
        "import torch\n",
        "if torch.cuda.is_available():\n",
        "  torch.device('cuda')"
      ],
      "execution_count": 0,
      "outputs": []
    },
    {
      "cell_type": "code",
      "metadata": {
        "id": "CB-nfPRrie1H",
        "colab_type": "code",
        "colab": {}
      },
      "source": [
        "from torch import nn"
      ],
      "execution_count": 0,
      "outputs": []
    },
    {
      "cell_type": "markdown",
      "metadata": {
        "id": "ASvF4rzgexfR",
        "colab_type": "text"
      },
      "source": [
        "### Gather Data"
      ]
    },
    {
      "cell_type": "code",
      "metadata": {
        "id": "aPC3wsaojqYm",
        "colab_type": "code",
        "colab": {}
      },
      "source": [
        "%%capture output\n",
        "!pip install torchtext==0.6.0\n",
        "import torchtext\n",
        "import pandas as pd"
      ],
      "execution_count": 0,
      "outputs": []
    },
    {
      "cell_type": "markdown",
      "metadata": {
        "id": "SDIrqh6DPju2",
        "colab_type": "text"
      },
      "source": [
        "Data were downloaded from http://help.sentiment140.com/for-students"
      ]
    },
    {
      "cell_type": "code",
      "metadata": {
        "id": "TKNxe_enkmmS",
        "colab_type": "code",
        "colab": {
          "base_uri": "https://localhost:8080/",
          "height": 34
        },
        "outputId": "dbd0412e-a394-4f53-b2fc-14e25220ab6e"
      },
      "source": [
        "# %%capture output\n",
        "!wget -nc -nv http://cs.stanford.edu/people/alecmgo/trainingandtestdata.zip"
      ],
      "execution_count": 5,
      "outputs": [
        {
          "output_type": "stream",
          "text": [
            "2020-06-01 23:39:38 URL:https://cs.stanford.edu/people/alecmgo/trainingandtestdata.zip [81363704/81363704] -> \"trainingandtestdata.zip\" [1]\n"
          ],
          "name": "stdout"
        }
      ]
    },
    {
      "cell_type": "code",
      "metadata": {
        "id": "lQiOQWkyl-i-",
        "colab_type": "code",
        "outputId": "817d0cd7-d34b-4a19-e750-c3a583b0aadc",
        "colab": {
          "base_uri": "https://localhost:8080/",
          "height": 68
        }
      },
      "source": [
        "# %%capture output\n",
        "!unzip -o trainingandtestdata.zip -d ./"
      ],
      "execution_count": 6,
      "outputs": [
        {
          "output_type": "stream",
          "text": [
            "Archive:  trainingandtestdata.zip\n",
            "  inflating: ./testdata.manual.2009.06.14.csv  \n",
            "  inflating: ./training.1600000.processed.noemoticon.csv  \n"
          ],
          "name": "stdout"
        }
      ]
    },
    {
      "cell_type": "markdown",
      "metadata": {
        "id": "C_Uhu4fkp-_W",
        "colab_type": "text"
      },
      "source": [
        "## Start Learning"
      ]
    },
    {
      "cell_type": "markdown",
      "metadata": {
        "id": "dLx8mfiXOPeJ",
        "colab_type": "text"
      },
      "source": [
        "\n",
        "### Explore dataset\n",
        "If you explore the ./content/... folder you will see 2 new files: \n",
        "- /content/testdata.manual.2009.06.14.csv: for testing purpose\n",
        "- /content/training.1600000.processed.noemoticon.csv: for training purpose\n"
      ]
    },
    {
      "cell_type": "code",
      "metadata": {
        "id": "3ybr2GaduBko",
        "colab_type": "code",
        "colab": {}
      },
      "source": [
        "# 0 - the polarity of the tweet (0 = negative, 2 = neutral, 4 = positive)\n",
        "# 1 - the id of the tweet (2087)\n",
        "# 2 - the date of the tweet (Sat May 16 23:58:44 UTC 2009)\n",
        "# 3 - the query (lyx). If there is no query, then this value is NO_QUERY.\n",
        "# 4 - the user that tweeted (robotickilldozr)\n",
        "# 5 - the text of the tweet (Lyx is cool)\n",
        "\n",
        "columns = ['polarity', 'id', 'date', 'query', 'user', 'text']"
      ],
      "execution_count": 0,
      "outputs": []
    },
    {
      "cell_type": "code",
      "metadata": {
        "id": "W6tkR5a9mb_q",
        "colab_type": "code",
        "outputId": "7b9b0cec-a18f-4b78-c135-05e9cab96e30",
        "colab": {
          "base_uri": "https://localhost:8080/",
          "height": 204
        }
      },
      "source": [
        "data = pd.read_csv('./training.1600000.processed.noemoticon.csv', \n",
        "                   header=None,\n",
        "                   encoding='latin')\n",
        "\n",
        "data.columns = columns\n",
        "data.sample(5)"
      ],
      "execution_count": 8,
      "outputs": [
        {
          "output_type": "execute_result",
          "data": {
            "text/html": [
              "<div>\n",
              "<style scoped>\n",
              "    .dataframe tbody tr th:only-of-type {\n",
              "        vertical-align: middle;\n",
              "    }\n",
              "\n",
              "    .dataframe tbody tr th {\n",
              "        vertical-align: top;\n",
              "    }\n",
              "\n",
              "    .dataframe thead th {\n",
              "        text-align: right;\n",
              "    }\n",
              "</style>\n",
              "<table border=\"1\" class=\"dataframe\">\n",
              "  <thead>\n",
              "    <tr style=\"text-align: right;\">\n",
              "      <th></th>\n",
              "      <th>polarity</th>\n",
              "      <th>id</th>\n",
              "      <th>date</th>\n",
              "      <th>query</th>\n",
              "      <th>user</th>\n",
              "      <th>text</th>\n",
              "    </tr>\n",
              "  </thead>\n",
              "  <tbody>\n",
              "    <tr>\n",
              "      <th>947652</th>\n",
              "      <td>4</td>\n",
              "      <td>1823121741</td>\n",
              "      <td>Sat May 16 21:10:03 PDT 2009</td>\n",
              "      <td>NO_QUERY</td>\n",
              "      <td>kickthehobbit</td>\n",
              "      <td>Why didn't I know about this http://bit.ly/wcN...</td>\n",
              "    </tr>\n",
              "    <tr>\n",
              "      <th>297306</th>\n",
              "      <td>0</td>\n",
              "      <td>1997364641</td>\n",
              "      <td>Mon Jun 01 16:43:17 PDT 2009</td>\n",
              "      <td>NO_QUERY</td>\n",
              "      <td>geneive</td>\n",
              "      <td>playing scrabble via facebook w/ kresta... thi...</td>\n",
              "    </tr>\n",
              "    <tr>\n",
              "      <th>758123</th>\n",
              "      <td>0</td>\n",
              "      <td>2295624430</td>\n",
              "      <td>Tue Jun 23 08:10:01 PDT 2009</td>\n",
              "      <td>NO_QUERY</td>\n",
              "      <td>xxMissJessicaxx</td>\n",
              "      <td>hello. long time no twit. longtime no sun either</td>\n",
              "    </tr>\n",
              "    <tr>\n",
              "      <th>506415</th>\n",
              "      <td>0</td>\n",
              "      <td>2188645998</td>\n",
              "      <td>Mon Jun 15 22:17:06 PDT 2009</td>\n",
              "      <td>NO_QUERY</td>\n",
              "      <td>raeganlovejonas</td>\n",
              "      <td>Going to bed. Another day of helping out at Ro...</td>\n",
              "    </tr>\n",
              "    <tr>\n",
              "      <th>1370111</th>\n",
              "      <td>4</td>\n",
              "      <td>2050957013</td>\n",
              "      <td>Fri Jun 05 19:36:00 PDT 2009</td>\n",
              "      <td>NO_QUERY</td>\n",
              "      <td>shelovestosing</td>\n",
              "      <td>@mytimetoshine girl... don't ask why!  just be...</td>\n",
              "    </tr>\n",
              "  </tbody>\n",
              "</table>\n",
              "</div>"
            ],
            "text/plain": [
              "         polarity  ...                                               text\n",
              "947652          4  ...  Why didn't I know about this http://bit.ly/wcN...\n",
              "297306          0  ...  playing scrabble via facebook w/ kresta... thi...\n",
              "758123          0  ...  hello. long time no twit. longtime no sun either \n",
              "506415          0  ...  Going to bed. Another day of helping out at Ro...\n",
              "1370111         4  ...  @mytimetoshine girl... don't ask why!  just be...\n",
              "\n",
              "[5 rows x 6 columns]"
            ]
          },
          "metadata": {
            "tags": []
          },
          "execution_count": 8
        }
      ]
    },
    {
      "cell_type": "code",
      "metadata": {
        "id": "sDyHSuIhIcTA",
        "colab_type": "code",
        "outputId": "7bba909e-b915-4e64-8af5-9d3ae4443348",
        "colab": {
          "base_uri": "https://localhost:8080/",
          "height": 238
        }
      },
      "source": [
        "data.info()"
      ],
      "execution_count": 9,
      "outputs": [
        {
          "output_type": "stream",
          "text": [
            "<class 'pandas.core.frame.DataFrame'>\n",
            "RangeIndex: 1600000 entries, 0 to 1599999\n",
            "Data columns (total 6 columns):\n",
            " #   Column    Non-Null Count    Dtype \n",
            "---  ------    --------------    ----- \n",
            " 0   polarity  1600000 non-null  int64 \n",
            " 1   id        1600000 non-null  int64 \n",
            " 2   date      1600000 non-null  object\n",
            " 3   query     1600000 non-null  object\n",
            " 4   user      1600000 non-null  object\n",
            " 5   text      1600000 non-null  object\n",
            "dtypes: int64(2), object(4)\n",
            "memory usage: 73.2+ MB\n"
          ],
          "name": "stdout"
        }
      ]
    },
    {
      "cell_type": "code",
      "metadata": {
        "id": "4w1zQ3m0mmi-",
        "colab_type": "code",
        "outputId": "27dbc949-4aee-4a6a-f9ee-78f25a892406",
        "colab": {
          "base_uri": "https://localhost:8080/",
          "height": 375
        }
      },
      "source": [
        "data.loc[:,'query'].value_counts()[0:10].plot.bar(figsize=(10,5))\n",
        "plt.show()"
      ],
      "execution_count": 10,
      "outputs": [
        {
          "output_type": "display_data",
          "data": {
            "image/png": "[encoded data removed]",
            "text/plain": [
              "<Figure size 720x360 with 1 Axes>"
            ]
          },
          "metadata": {
            "tags": [],
            "needs_background": "light"
          }
        }
      ]
    },
    {
      "cell_type": "markdown",
      "metadata": {
        "id": "iEt5gmn9PF50",
        "colab_type": "text"
      },
      "source": [
        "The above graphs shows the feature \"query\"."
      ]
    },
    {
      "cell_type": "code",
      "metadata": {
        "id": "hpAjM07bm7jU",
        "colab_type": "code",
        "outputId": "96f0f659-0a98-429b-965f-5b3491eaafd3",
        "colab": {
          "base_uri": "https://localhost:8080/",
          "height": 355
        }
      },
      "source": [
        "# (0 = negative, 2 = neutral, 4 = positive)\n",
        "data['polarity'].value_counts()[0:10].plot.bar(figsize=(5,5))\n",
        "plt.xticks([0,1],[\"Positive\", \"Negative\"])\n",
        "plt.show()"
      ],
      "execution_count": 11,
      "outputs": [
        {
          "output_type": "display_data",
          "data": {
            "image/png": "[encoded data removed]",
            "text/plain": [
              "<Figure size 360x360 with 1 Axes>"
            ]
          },
          "metadata": {
            "tags": [],
            "needs_background": "light"
          }
        }
      ]
    },
    {
      "cell_type": "markdown",
      "metadata": {
        "id": "JsrneWhGOWGc",
        "colab_type": "text"
      },
      "source": [
        "Save polarity as a category (0,1,2)"
      ]
    },
    {
      "cell_type": "code",
      "metadata": {
        "id": "oW0BPWtDnw1n",
        "colab_type": "code",
        "outputId": "33000ff5-74ef-48f7-b4ba-f0b3b605b3de",
        "colab": {
          "base_uri": "https://localhost:8080/",
          "height": 68
        }
      },
      "source": [
        "dtype = data['polarity'].astype('category').dtype\n",
        "data['polarity_cat'] = data.polarity.astype(dtype)\n",
        "data.polarity.value_counts()"
      ],
      "execution_count": 12,
      "outputs": [
        {
          "output_type": "execute_result",
          "data": {
            "text/plain": [
              "4    800000\n",
              "0    800000\n",
              "Name: polarity, dtype: int64"
            ]
          },
          "metadata": {
            "tags": []
          },
          "execution_count": 12
        }
      ]
    },
    {
      "cell_type": "code",
      "metadata": {
        "id": "o7B1rmgwosh3",
        "colab_type": "code",
        "colab": {}
      },
      "source": [
        "data['old_polarity'] = data.polarity\n",
        "data.polarity = data.polarity_cat.cat.codes"
      ],
      "execution_count": 0,
      "outputs": []
    },
    {
      "cell_type": "code",
      "metadata": {
        "id": "_8fhCiRwczu2",
        "colab_type": "code",
        "outputId": "99efaf74-eff4-49cb-a07d-b8bf5daaf258",
        "colab": {
          "base_uri": "https://localhost:8080/",
          "height": 68
        }
      },
      "source": [
        "cats = pd.Series([0,4], dtype=dtype)\n",
        "\n",
        "dictcats = { code: cat for code, cat in zip(cats.cat.codes.values, cats.cat.categories.values)}\n",
        "print(dictcats, cats.cat.codes)\n",
        "dictcats_names = { 0: \"negative\", 2: \"neutral\", 4: \"positive\" }"
      ],
      "execution_count": 14,
      "outputs": [
        {
          "output_type": "stream",
          "text": [
            "{0: 0, 1: 4} 0    0\n",
            "1    1\n",
            "dtype: int8\n"
          ],
          "name": "stdout"
        }
      ]
    },
    {
      "cell_type": "markdown",
      "metadata": {
        "id": "nnwfzgO1Oe2g",
        "colab_type": "text"
      },
      "source": [
        "See some examples"
      ]
    },
    {
      "cell_type": "code",
      "metadata": {
        "id": "eVRQRXfbt-P4",
        "colab_type": "code",
        "outputId": "97aa985c-ac28-44dc-b73e-3b317c918963",
        "colab": {
          "base_uri": "https://localhost:8080/",
          "height": 204
        }
      },
      "source": [
        "print(data.iloc[data.text.str.count(' ').argsort()[-10::]].text.values)\n",
        "print(data.text.str.count(' ').max())"
      ],
      "execution_count": 15,
      "outputs": [
        {
          "output_type": "stream",
          "text": [
            "[\"Heute Hannah Montana - Der Film                                                                  I'm Yours - Jason Mraz \"\n",
            " 'Guten Morgen Twitterland                         Happy Birthday Dad                                                I love you '\n",
            " 'Ry, food in toaster oven-Cu in AM!                                                                        Gnight All!  '\n",
            " 'I want to work                                                                            Just finished bathing :o'\n",
            " 'Do you like matheW?                                                                                   SumMEr oH*9 (:'\n",
            " 'loved seeing elena ! i love my worm  exhausted xx                                                                               __'\n",
            " '-----&gt;bite hard&lt;----                                                                                       damn this blows.'\n",
            " 'will i ever stop feeling crappy?  all signs point to no.                                                                                 '\n",
            " '@lectronice yes indeed                                                                                               here I am again'\n",
            " \"I'm Supa Bored                                                                                                       Yay For twitter Spam \"]\n",
            "109\n"
          ],
          "name": "stdout"
        }
      ]
    },
    {
      "cell_type": "code",
      "metadata": {
        "id": "eJr8fV7Fow1y",
        "colab_type": "code",
        "outputId": "60f8cde5-a74b-48ca-b298-12ed64f0483d",
        "colab": {
          "base_uri": "https://localhost:8080/",
          "height": 170
        }
      },
      "source": [
        "data = data[[\"polarity\",\"text\"]]\n",
        "data.info()"
      ],
      "execution_count": 16,
      "outputs": [
        {
          "output_type": "stream",
          "text": [
            "<class 'pandas.core.frame.DataFrame'>\n",
            "RangeIndex: 1600000 entries, 0 to 1599999\n",
            "Data columns (total 2 columns):\n",
            " #   Column    Non-Null Count    Dtype \n",
            "---  ------    --------------    ----- \n",
            " 0   polarity  1600000 non-null  int8  \n",
            " 1   text      1600000 non-null  object\n",
            "dtypes: int8(1), object(1)\n",
            "memory usage: 13.7+ MB\n"
          ],
          "name": "stdout"
        }
      ]
    },
    {
      "cell_type": "markdown",
      "metadata": {
        "id": "Z5BNfL1QgZY_",
        "colab_type": "text"
      },
      "source": [
        "### TODO: Data Cleaning"
      ]
    },
    {
      "cell_type": "markdown",
      "metadata": {
        "id": "3yfp9LL6aQCt",
        "colab_type": "text"
      },
      "source": [
        "### DataIngestion with Dataset and Example's\n"
      ]
    },
    {
      "cell_type": "code",
      "metadata": {
        "colab_type": "code",
        "id": "-x18reuFditT",
        "colab": {}
      },
      "source": [
        "## Defining fields for the model\n",
        "LABEL = torchtext.data.LabelField()\n",
        "TWEET = torchtext.data.Field(tokenize='spacy', lower=True)"
      ],
      "execution_count": 0,
      "outputs": []
    },
    {
      "cell_type": "code",
      "metadata": {
        "colab_type": "code",
        "id": "ufzZfyqDdit2",
        "colab": {}
      },
      "source": [
        "fields = [\n",
        "  ('polarity', LABEL), \n",
        "  ('text', TWEET),\n",
        "]\n"
      ],
      "execution_count": 0,
      "outputs": []
    },
    {
      "cell_type": "code",
      "metadata": {
        "id": "Ci7HpBRdsWJv",
        "colab_type": "code",
        "colab": {}
      },
      "source": [
        "from sklearn.model_selection import train_test_split\n",
        "\n",
        "data, _ = train_test_split(data, train_size=0.8, stratify=data.polarity, shuffle=True, random_state=42)\n",
        "data_train, data_test = train_test_split(data, train_size=0.1, stratify=data.polarity, shuffle=True, random_state=42)\n",
        "data_valid, data_test = train_test_split(data_test, stratify=data_test.polarity, train_size=0.1, shuffle=True)"
      ],
      "execution_count": 0,
      "outputs": []
    },
    {
      "cell_type": "code",
      "metadata": {
        "id": "yOfokI9uaivC",
        "colab_type": "code",
        "colab": {}
      },
      "source": [
        "def map_examples(data):\n",
        "  examples=[]\n",
        "  for ex in tqdm(data.values):\n",
        "    examples.append(torchtext.data.Example.fromlist(ex, fields))\n",
        "  return examples"
      ],
      "execution_count": 0,
      "outputs": []
    },
    {
      "cell_type": "code",
      "metadata": {
        "id": "T2FacK9otFn5",
        "colab_type": "code",
        "outputId": "3f076546-36ef-45cd-b117-0916617e0e2f",
        "colab": {
          "base_uri": "https://localhost:8080/",
          "height": 164,
          "referenced_widgets": [
            "c98c9af708b74ddda5b15292897bcc98",
            "6a2f8a99463c43eba0c220dc3e70b044",
            "ac73989fca8b4d758c40a33fe0509e59",
            "5e376b9644cf4d7e9fb6f7db930a9ed9",
            "fa564fafdf42471face07117c519cf24",
            "9efd752a5b5542c7accd398580a3c594",
            "d6c329e3fb5a4a0f8fe991f8c321b68a",
            "b911ad4c11244d7cba5eea38f2c48669",
            "72f80e8b10bd44d3b4cb249436ccf214",
            "69cb4a4a49874b1db968822f4069323e",
            "ad6e8ad84cdc4984b86bde750e31ad8c",
            "3f1d0cc63e754ae994da338e2a56e7a0",
            "726ac0d443fc4eff8ecdfdcdde8690de",
            "0f3d89687ba54a50b013d2d2d1ecd3a4",
            "fba9c9335c49463d8627daece957c6bc",
            "2ebb104a55a14fa5970fda180d38d2c4",
            "8fa82727d8b3479e93ce83c5b586e5d5",
            "25ddecc1443745c8ad4ef0c95034b2ff",
            "c07422fbb3d84842ae278862dcd2077f",
            "22d0d10bb8da44dc88c92aaeb8c12ae3",
            "052f5bdb41e4432aa642b4ffc49e279a",
            "70153ede7e3341fabb43d369e007e8cb",
            "5ff5af9dbd2c4b84a9bc042b20824f37",
            "414a968418db4486a08523eb5ae203e3"
          ]
        }
      },
      "source": [
        "examples_train = map_examples(data_train)\n",
        "examples_valid = map_examples(data_valid)\n",
        "examples_test = map_examples(data_test)"
      ],
      "execution_count": 21,
      "outputs": [
        {
          "output_type": "display_data",
          "data": {
            "application/vnd.jupyter.widget-view+json": {
              "model_id": "c98c9af708b74ddda5b15292897bcc98",
              "version_minor": 0,
              "version_major": 2
            },
            "text/plain": [
              "HBox(children=(FloatProgress(value=0.0, max=128000.0), HTML(value='')))"
            ]
          },
          "metadata": {
            "tags": []
          }
        },
        {
          "output_type": "stream",
          "text": [
            "\n"
          ],
          "name": "stdout"
        },
        {
          "output_type": "display_data",
          "data": {
            "application/vnd.jupyter.widget-view+json": {
              "model_id": "72f80e8b10bd44d3b4cb249436ccf214",
              "version_minor": 0,
              "version_major": 2
            },
            "text/plain": [
              "HBox(children=(FloatProgress(value=0.0, max=115200.0), HTML(value='')))"
            ]
          },
          "metadata": {
            "tags": []
          }
        },
        {
          "output_type": "stream",
          "text": [
            "\n"
          ],
          "name": "stdout"
        },
        {
          "output_type": "display_data",
          "data": {
            "application/vnd.jupyter.widget-view+json": {
              "model_id": "8fa82727d8b3479e93ce83c5b586e5d5",
              "version_minor": 0,
              "version_major": 2
            },
            "text/plain": [
              "HBox(children=(FloatProgress(value=0.0, max=1036800.0), HTML(value='')))"
            ]
          },
          "metadata": {
            "tags": []
          }
        },
        {
          "output_type": "stream",
          "text": [
            "\n"
          ],
          "name": "stdout"
        }
      ]
    },
    {
      "cell_type": "code",
      "metadata": {
        "id": "5d5XmP0Ubx2L",
        "colab_type": "code",
        "colab": {}
      },
      "source": [
        "train = torchtext.data.Dataset(examples_train, fields)\n",
        "test = torchtext.data.Dataset(examples_test, fields)\n",
        "valid = torchtext.data.Dataset(examples_valid, fields)"
      ],
      "execution_count": 0,
      "outputs": []
    },
    {
      "cell_type": "code",
      "metadata": {
        "id": "le98D24_dKLi",
        "colab_type": "code",
        "outputId": "16b6128d-2ea2-45da-e223-19628ec8232c",
        "colab": {
          "base_uri": "https://localhost:8080/",
          "height": 34
        }
      },
      "source": [
        "# Build a vocabulary\n",
        "%%timeit\n",
        "vocab_size = 20000\n",
        "TWEET.build_vocab(train, max_size = vocab_size)\n",
        "LABEL.build_vocab(train)"
      ],
      "execution_count": 23,
      "outputs": [
        {
          "output_type": "stream",
          "text": [
            "1 loop, best of 3: 1.01 s per loop\n"
          ],
          "name": "stdout"
        }
      ]
    },
    {
      "cell_type": "code",
      "metadata": {
        "id": "_gGuvDBndNeB",
        "colab_type": "code",
        "colab": {}
      },
      "source": [
        "train_iterator, valid_iterator, test_iterator = torchtext.data.BucketIterator.splits(\n",
        "  (train, valid, test), \n",
        "  batch_size = 100, \n",
        "  device = 'cuda',\n",
        "  shuffle=True,\n",
        "  sort_key = lambda x: len(x.text),\n",
        "  sort_within_batch = False\n",
        ")"
      ],
      "execution_count": 0,
      "outputs": []
    },
    {
      "cell_type": "code",
      "metadata": {
        "id": "-mw9RSWjdzii",
        "colab_type": "code",
        "outputId": "ea85b23f-e113-4731-ece8-0989db6d05ef",
        "colab": {
          "base_uri": "https://localhost:8080/",
          "height": 34
        }
      },
      "source": [
        "len(TWEET.vocab), len(LABEL.vocab)"
      ],
      "execution_count": 25,
      "outputs": [
        {
          "output_type": "execute_result",
          "data": {
            "text/plain": [
              "(20002, 2)"
            ]
          },
          "metadata": {
            "tags": []
          },
          "execution_count": 25
        }
      ]
    },
    {
      "cell_type": "markdown",
      "metadata": {
        "id": "aGFaGzKuYJgJ",
        "colab_type": "text"
      },
      "source": [
        "### Defining a model"
      ]
    },
    {
      "cell_type": "markdown",
      "metadata": {
        "id": "_xiu28LOzCVo",
        "colab_type": "text"
      },
      "source": [
        "The iterator returns shape => (sequence_len, batch_size)\n",
        "Embedding Layer:\n",
        "- input ( * )\n",
        "- output (*, embedding_size)\n",
        "\n",
        "So embedding returns shape => (seq_len, batch_size, embedding_size)\n",
        "\n",
        "Luego cualquier RNN, en este caso LSTM espera:\n",
        "- Input (seq_len, batch_size, input_size)\n",
        "\n",
        "- output: output, (h_n, c_n)\n",
        "  - output: (seq_len, batch, num_directions * hidden_size)\n",
        "  - h_n: (num_layers * num_directions, batch, hidden_size)\n",
        "  - c_n:(num_layers * num_directions, batch, hidden_size)\n",
        "\n",
        "In conclusion, input_size should be embedding_dim\n"
      ]
    },
    {
      "cell_type": "markdown",
      "metadata": {
        "id": "OmzKDdTr-uaC",
        "colab_type": "text"
      },
      "source": [
        "Ver https://towardsdatascience.com/understand-how-to-use-namedtuple-and-dataclass-in-python-e82e535c3691"
      ]
    },
    {
      "cell_type": "code",
      "metadata": {
        "id": "0y4NpQYg2fMA",
        "colab_type": "code",
        "colab": {}
      },
      "source": [
        "class ClassifierLSTM(nn.Module):\n",
        "  def __init__(self, embedding_dim, vocab_size, hidden_size, \n",
        "               num_classes, num_layers=1, bidirectional=False,\n",
        "               use_only_last_hidden=False):\n",
        "    super(ClassifierLSTM, self).__init__()\n",
        "\n",
        "    self.hidden_size = hidden_size\n",
        "    self.num_layers = num_layers\n",
        "    self.bi = 2 if bidirectional else 1\n",
        "    self.fc_inputs = hidden_size*num_layers*self.bi\n",
        "    self.use_only_last_hidden = use_only_last_hidden\n",
        "\n",
        "    # the words in our text are pushed into an Embedding layer,\n",
        "    # https://pytorch.org/docs/stable/nn.html#embedding\n",
        "    self.embedding = nn.Embedding(vocab_size, embedding_dim)\n",
        "    \n",
        "    # That’s then fed into a LSTM with hidden_size hidden features\n",
        "    self.encoder = nn.LSTM(\n",
        "      input_size=embedding_dim,\n",
        "      hidden_size=hidden_size, \n",
        "      num_layers=num_layers,\n",
        "      bidirectional=bidirectional\n",
        "    )\n",
        "\n",
        "    # the final hidden state is pushed through a standard fully connected layer\n",
        "    if use_only_last_hidden:\n",
        "      self.predictor = nn.Linear(self.fc_inputs, num_classes)\n",
        "    else:\n",
        "      self.predictor = nn.Linear(hidden_size, num_classes)\n",
        "\n",
        "  def forward(self, seq):\n",
        "    output, (hidden,_) = self.encoder(self.embedding(seq))\n",
        "\n",
        "    if self.use_only_last_hidden:\n",
        "      return self.predictor(hidden.reshape(-1,self.fc_inputs))\n",
        "    else:\n",
        "      return self.predictor(hidden[-1].squeeze(0))\n",
        "\n",
        "  def training_step(self, batch, loss_fn):\n",
        "    inputs, labels = batch \n",
        "    out = self(inputs) # Generate predictions call forward method\n",
        "    loss = loss_fn(out, labels) # Calculate loss\n",
        "    return loss\n",
        "    \n",
        "  def validation_step(self, batch, loss_fn, metric):\n",
        "    inputs, labels = batch \n",
        "    out = self(inputs)          # Generate predictions call forward method\n",
        "    loss = loss_fn(out, labels) # Calculate loss\n",
        "    acc = metric(out, labels)   # Calculate accuracy\n",
        "    return {'val_loss': loss, 'val_acc': acc}\n",
        "        \n",
        "  def validation_epoch_end(self, outputs):\n",
        "    #TODO: refactor\n",
        "    batch_losses = [x['val_loss'] for x in outputs]\n",
        "    epoch_loss = torch.stack(batch_losses).mean()   # Combine losses\n",
        "\n",
        "    batch_accs = [x['val_acc'] for x in outputs]\n",
        "    epoch_acc = torch.stack(batch_accs).mean()      # Combine accuracies\n",
        "\n",
        "    return {'val_loss': epoch_loss.item(), 'val_acc': epoch_acc.item()}\n",
        "    \n",
        "  def epoch_end(self, epoch, result):\n",
        "    print(\"Epoch [{}], val_loss: {:.4f}, val_acc: {:.4f}\".format(\n",
        "        epoch, \n",
        "        result['val_loss'], \n",
        "        result['val_acc'])\n",
        "    )\n",
        "    print(\"*\"*25)\n"
      ],
      "execution_count": 0,
      "outputs": []
    },
    {
      "cell_type": "code",
      "metadata": {
        "id": "BXWUNILhV-Zc",
        "colab_type": "code",
        "colab": {}
      },
      "source": [
        "\n",
        "def accuracy(outputs, labels):\n",
        "    _, preds = torch.max(outputs, dim=1)\n",
        "    return torch.tensor(torch.sum(preds == labels).item() / len(preds))\n",
        "\n",
        "\n",
        "def fit(epochs, model, train_iterator, val_loader, optimizer, loss_fn, scheduler=None, early_stopping=15):\n",
        "  # TODO: return best_model\n",
        "  history = []\n",
        "  stopping_counter = 0\n",
        "  best_metric = 0\n",
        "  best_model=model.state_dict()\n",
        "\n",
        "  for epoch in range(1,epochs+1):\n",
        "    # Training Phase \n",
        "    model.train()\n",
        "    for bix, batch in enumerate(train_iterator):\n",
        "        inputs = (batch.text, batch.polarity)\n",
        "        optimizer.zero_grad()\n",
        "        loss = model.training_step(inputs, loss_fn)\n",
        "        loss.backward()\n",
        "        optimizer.step()\n",
        "    \n",
        "    # Validation phase\n",
        "    model.eval()\n",
        "    outputs = []\n",
        "    for bix, batch in enumerate(val_loader):\n",
        "      inputs = (batch.text, batch.polarity)\n",
        "      optimizer.zero_grad()\n",
        "      outputs.append(model.validation_step(inputs, loss_fn, accuracy))\n",
        "    \n",
        "    # Epoch Ended\n",
        "    results = model.validation_epoch_end(outputs)\n",
        "    history.append(results)\n",
        "    model.epoch_end(epoch, results)\n",
        "\n",
        "    # early stopping monitor\n",
        "    if (best_metric < results[\"val_acc\"]):\n",
        "      stopping_counter = 0 \n",
        "      best_metric=results[\"val_acc\"]\n",
        "      best_model=model.state_dict()\n",
        "    else: \n",
        "      stopping_counter += 1\n",
        "\n",
        "    # scheduler, reduce if corresponds (?) \n",
        "    if scheduler: \n",
        "      scheduler.step(epoch)\n",
        "    \n",
        "    if stopping_counter == early_stopping:\n",
        "      print(\"Early stopping at epoch: \", epoch, \" Best acc: \", best_metric)\n",
        "      break\n",
        "\n",
        "  return history, best_model"
      ],
      "execution_count": 0,
      "outputs": []
    },
    {
      "cell_type": "code",
      "metadata": {
        "id": "qWfQHrS83HRL",
        "colab_type": "code",
        "outputId": "3f8db640-9dc4-413b-ad33-50b4bc7d3883",
        "colab": {
          "base_uri": "https://localhost:8080/",
          "height": 102
        }
      },
      "source": [
        "model = ClassifierLSTM(\n",
        "  hidden_size=150, \n",
        "  embedding_dim=300, \n",
        "  vocab_size=len(TWEET.vocab),\n",
        "  num_classes=2,\n",
        "  num_layers=1,\n",
        "  bidirectional=True,\n",
        "  use_only_last_hidden=False\n",
        ")\n",
        "model.to('cuda')"
      ],
      "execution_count": 28,
      "outputs": [
        {
          "output_type": "execute_result",
          "data": {
            "text/plain": [
              "ClassifierLSTM(\n",
              "  (embedding): Embedding(20002, 300)\n",
              "  (encoder): LSTM(300, 150, bidirectional=True)\n",
              "  (predictor): Linear(in_features=150, out_features=2, bias=True)\n",
              ")"
            ]
          },
          "metadata": {
            "tags": []
          },
          "execution_count": 28
        }
      ]
    },
    {
      "cell_type": "code",
      "metadata": {
        "id": "q3Lklz7_6jLi",
        "colab_type": "code",
        "colab": {}
      },
      "source": [
        "# calculate gradients\n",
        "loss_fn = torch.nn.CrossEntropyLoss()"
      ],
      "execution_count": 0,
      "outputs": []
    },
    {
      "cell_type": "code",
      "metadata": {
        "id": "ifuikVtJ_WcV",
        "colab_type": "code",
        "colab": {}
      },
      "source": [
        "# update parameters by optimizer\n",
        "optimizer = torch.optim.Adam(model.parameters(), lr=1e-3)\n",
        "scheduler = torch.optim.lr_scheduler.ReduceLROnPlateau(optimizer, patience=10, verbose=True)\n"
      ],
      "execution_count": 0,
      "outputs": []
    },
    {
      "cell_type": "code",
      "metadata": {
        "id": "M1MGV1LbFNFO",
        "colab_type": "code",
        "colab": {}
      },
      "source": [
        "history = []"
      ],
      "execution_count": 0,
      "outputs": []
    },
    {
      "cell_type": "code",
      "metadata": {
        "id": "jK2BUSYohmuj",
        "colab_type": "code",
        "outputId": "c05eecd4-b18a-4e2d-c444-99ad7a4214f2",
        "colab": {
          "base_uri": "https://localhost:8080/",
          "height": 663
        }
      },
      "source": [
        "actual_history, best_model = fit(50, model, train_iterator, valid_iterator, optimizer, loss_fn, scheduler)\n",
        "history += actual_history"
      ],
      "execution_count": 32,
      "outputs": [
        {
          "output_type": "stream",
          "text": [
            "Epoch [1], val_loss: 0.4438, val_acc: 0.7995\n",
            "*************************\n",
            "Epoch [2], val_loss: 0.4270, val_acc: 0.8070\n",
            "*************************\n",
            "Epoch [3], val_loss: 0.4267, val_acc: 0.8107\n",
            "*************************\n",
            "Epoch [4], val_loss: 0.4633, val_acc: 0.8001\n",
            "*************************\n",
            "Epoch [5], val_loss: 0.5322, val_acc: 0.7931\n",
            "*************************\n",
            "Epoch [6], val_loss: 0.6011, val_acc: 0.7817\n",
            "*************************\n",
            "Epoch [7], val_loss: 0.6821, val_acc: 0.7786\n",
            "*************************\n",
            "Epoch [8], val_loss: 0.7916, val_acc: 0.7835\n",
            "*************************\n",
            "Epoch [9], val_loss: 0.8700, val_acc: 0.7782\n",
            "*************************\n",
            "Epoch [10], val_loss: 0.9115, val_acc: 0.7766\n",
            "*************************\n",
            "Epoch [11], val_loss: 0.9913, val_acc: 0.7693\n",
            "*************************\n",
            "Epoch [12], val_loss: 1.0649, val_acc: 0.7794\n",
            "*************************\n",
            "Epoch    12: reducing learning rate of group 0 to 1.0000e-04.\n",
            "Epoch [13], val_loss: 1.0657, val_acc: 0.7794\n",
            "*************************\n",
            "Epoch [14], val_loss: 1.0969, val_acc: 0.7825\n",
            "*************************\n",
            "Epoch [15], val_loss: 1.1335, val_acc: 0.7832\n",
            "*************************\n",
            "Epoch [16], val_loss: 1.1689, val_acc: 0.7849\n",
            "*************************\n",
            "Epoch [17], val_loss: 1.1976, val_acc: 0.7850\n",
            "*************************\n",
            "Epoch [18], val_loss: 1.2353, val_acc: 0.7853\n",
            "*************************\n",
            "Early stopping at epoch:  18  Best acc:  0.8107118606567383\n"
          ],
          "name": "stdout"
        }
      ]
    },
    {
      "cell_type": "code",
      "metadata": {
        "id": "S57jmSY7LhP0",
        "colab_type": "code",
        "colab": {}
      },
      "source": [
        "torch.save(best_model, \"./best_model.pt\")"
      ],
      "execution_count": 0,
      "outputs": []
    },
    {
      "cell_type": "code",
      "metadata": {
        "id": "hnWr0itlTao-",
        "colab_type": "code",
        "colab": {
          "base_uri": "https://localhost:8080/",
          "height": 34
        },
        "outputId": "c6eb911d-aaeb-447d-bedc-df0156492182"
      },
      "source": [
        "model.load_state_dict(best_model)"
      ],
      "execution_count": 40,
      "outputs": [
        {
          "output_type": "execute_result",
          "data": {
            "text/plain": [
              "<All keys matched successfully>"
            ]
          },
          "metadata": {
            "tags": []
          },
          "execution_count": 40
        }
      ]
    },
    {
      "cell_type": "markdown",
      "metadata": {
        "id": "rC3joZvRqYfG",
        "colab_type": "text"
      },
      "source": [
        "### Learning History"
      ]
    },
    {
      "cell_type": "code",
      "metadata": {
        "id": "HWL_2ZDBbim7",
        "colab_type": "code",
        "outputId": "e476f2ae-979a-480d-a365-89f703fbecf6",
        "colab": {
          "base_uri": "https://localhost:8080/",
          "height": 299
        }
      },
      "source": [
        "accuracies = [result['val_acc'] for result in history]\n",
        "plt.plot(accuracies, '-x')\n",
        "plt.xlabel('epoch')\n",
        "plt.ylabel('accuracy')\n",
        "plt.title('Accuracy vs. No. of epochs');"
      ],
      "execution_count": 38,
      "outputs": [
        {
          "output_type": "display_data",
          "data": {
            "image/png": "[encoded data removed]",
            "text/plain": [
              "<Figure size 432x288 with 1 Axes>"
            ]
          },
          "metadata": {
            "tags": [],
            "needs_background": "light"
          }
        }
      ]
    },
    {
      "cell_type": "markdown",
      "metadata": {
        "id": "sZK26aFHiPgu",
        "colab_type": "text"
      },
      "source": [
        "### Evaluate results in test data\n"
      ]
    },
    {
      "cell_type": "code",
      "metadata": {
        "id": "YMNGn5tseMVU",
        "colab_type": "code",
        "outputId": "f46514a6-bab5-4ead-8481-c9c90069e41c",
        "colab": {
          "base_uri": "https://localhost:8080/",
          "height": 66,
          "referenced_widgets": [
            "88c15c5cfd8641ff99ac2a6ddb7c44c3",
            "4ddf2e37e07e4d7fa79509d3136fd655",
            "fad58537134f448caf88938abfa26a69",
            "78ad39d799d846b2884102dd3b9e4fa8",
            "0a561d370fa24bd9adf71ee9cb427d26",
            "1bef79e586a44ef5a2cf1c3410d028d7",
            "b6c423299a7d4424b979a25ca638dd3e",
            "16f32de5f9694c089c62b4e8df87c8c5"
          ]
        }
      },
      "source": [
        "acc = []\n",
        "for batch in tqdm(test_iterator):\n",
        "  with torch.no_grad():\n",
        "    outputs = model(batch.text)\n",
        "    acc.append(accuracy(outputs, batch.polarity).numpy())\n"
      ],
      "execution_count": 43,
      "outputs": [
        {
          "output_type": "display_data",
          "data": {
            "application/vnd.jupyter.widget-view+json": {
              "model_id": "88c15c5cfd8641ff99ac2a6ddb7c44c3",
              "version_minor": 0,
              "version_major": 2
            },
            "text/plain": [
              "HBox(children=(FloatProgress(value=0.0, max=10368.0), HTML(value='')))"
            ]
          },
          "metadata": {
            "tags": []
          }
        },
        {
          "output_type": "stream",
          "text": [
            "\n"
          ],
          "name": "stdout"
        }
      ]
    },
    {
      "cell_type": "code",
      "metadata": {
        "id": "vpO3Mab7UFZT",
        "colab_type": "code",
        "colab": {
          "base_uri": "https://localhost:8080/",
          "height": 34
        },
        "outputId": "99648f34-f41c-47de-88e0-5a20ca25c686"
      },
      "source": [
        "print(\"Test performance: {:2f} +/- {:2f}\".format(np.array(acc).mean(), np.array(acc).std()))"
      ],
      "execution_count": 46,
      "outputs": [
        {
          "output_type": "stream",
          "text": [
            "Test performance: 0.783088 +/- 0.044421\n"
          ],
          "name": "stdout"
        }
      ]
    },
    {
      "cell_type": "markdown",
      "metadata": {
        "id": "KAteClO-iWW-",
        "colab_type": "text"
      },
      "source": [
        "### Production (?)\n"
      ]
    },
    {
      "cell_type": "code",
      "metadata": {
        "id": "QnaF7-rZ63B6",
        "colab_type": "code",
        "colab": {}
      },
      "source": [
        "def classify_tweet(tweet):\n",
        "  categories = dictcats\n",
        "  processed = TWEET.process([TWEET.preprocess(tweet)])\n",
        "  processed = processed.to('cuda')\n",
        "  with torch.no_grad():\n",
        "    return dictcats_names[categories[model(processed).argmax().item()]]"
      ],
      "execution_count": 0,
      "outputs": []
    },
    {
      "cell_type": "code",
      "metadata": {
        "id": "U9lHba24fl_p",
        "colab_type": "code",
        "cellView": "form",
        "outputId": "6babc73e-33a9-486b-a501-538751e4b3f3",
        "colab": {
          "base_uri": "https://localhost:8080/",
          "height": 34
        }
      },
      "source": [
        "#@title ### Test the model!\n",
        "tweet_text = \"I love you\" #@param {type:\"string\"}\n",
        "classify_tweet(tweet_text)"
      ],
      "execution_count": 75,
      "outputs": [
        {
          "output_type": "execute_result",
          "data": {
            "text/plain": [
              "'negative'"
            ]
          },
          "metadata": {
            "tags": []
          },
          "execution_count": 75
        }
      ]
    },
    {
      "cell_type": "markdown",
      "metadata": {
        "id": "v5m87g2wz2Kt",
        "colab_type": "text"
      },
      "source": [
        "## Next steps\n",
        "\n",
        "- you can increase num_layers to create stacked LSTMs, \n",
        "- increase or decrease the number of hidden features in the layer, \n",
        "- set bidirectional=true to create a biLSTM. \n",
        "\n",
        "- replacing lstm wit gru\n",
        "does it train faster? Is it more accurate? (Experiment and see what you find)"
      ]
    }
  ]
}