{
  "nbformat": 4,
  "nbformat_minor": 0,
  "metadata": {
    "colab": {
      "name": "03-text_classification.ipynb",
      "provenance": [],
      "collapsed_sections": [],
      "toc_visible": true,
      "authorship_tag": "ABX9TyO38S/DsnQm+OAQVwZwoP+w",
      "include_colab_link": true
    },
    "kernelspec": {
      "name": "python3",
      "display_name": "Python 3"
    },
    "accelerator": "GPU"
  },
  "cells": [
    {
      "cell_type": "markdown",
      "metadata": {
        "id": "view-in-github",
        "colab_type": "text"
      },
      "source": [
        "<a href=\"https://colab.research.google.com/github/JonathanLoscalzo/pytorch-tutorials/blob/master/Deep%20Learning%20with%20Pytorch/03_text_classification.ipynb\" target=\"_parent\"><img src=\"https://colab.research.google.com/assets/colab-badge.svg\" alt=\"Open In Colab\"/></a>"
      ]
    },
    {
      "cell_type": "markdown",
      "metadata": {
        "id": "eZeZLLigdNXk",
        "colab_type": "text"
      },
      "source": [
        "# Deep Learning and text\n"
      ]
    },
    {
      "cell_type": "markdown",
      "metadata": {
        "id": "cFIjbqwdEZub",
        "colab_type": "text"
      },
      "source": [
        "\n",
        "## Recurrent Neuronal Network RNN\n",
        "\n",
        "[DeepLearningBook - Chapter 10](https://www.deeplearningbook.org/contents/rnn.html)\n",
        "\n",
        "[Supervised Sequence Labelling with Recurrent\n",
        "Neural Networks - Graves (2012)](https://www.cs.toronto.edu/~graves/preprint.pdf)\n",
        "\n",
        "\n",
        "[A comprehensive tutorial to torchtext/](http://mlexplained.com/2018/02/08/a-comprehensive-tutorial-to-torchtext/)\n",
        "\n",
        "Parameter sharing makes it possible to extend and apply the model to examples of diﬀerent forms (diﬀerent lengths, here) and generalize across them. (hidden state)\n",
        "\n",
        "Sequences Issues (time-series, speech, text): Recurrent neural networks (RNNs) answer this problem by giving neural networks a memory via hidden state.\n",
        "\n",
        "Issues: \n",
        "- vanishing gradient: first layers doesn't learn due to small gradient in these layers. \n",
        "- exploding gradient: \n",
        "\n",
        "\n"
      ]
    },
    {
      "cell_type": "code",
      "metadata": {
        "id": "_rWOOOtXngdQ",
        "colab_type": "code",
        "colab": {}
      },
      "source": [
        "import matplotlib.pyplot as plt\n",
        "import numpy as np\n",
        "plt.style.use('ggplot')"
      ],
      "execution_count": 0,
      "outputs": []
    },
    {
      "cell_type": "code",
      "metadata": {
        "id": "NW-oJId5Vp-a",
        "colab_type": "code",
        "colab": {}
      },
      "source": [
        "import torch\n",
        "if torch.cuda.is_available():\n",
        "  torch.device('cuda')"
      ],
      "execution_count": 0,
      "outputs": []
    },
    {
      "cell_type": "code",
      "metadata": {
        "id": "CB-nfPRrie1H",
        "colab_type": "code",
        "colab": {}
      },
      "source": [
        "from torch import nn"
      ],
      "execution_count": 0,
      "outputs": []
    },
    {
      "cell_type": "code",
      "metadata": {
        "id": "WZUVEdjaiLRF",
        "colab_type": "code",
        "outputId": "06d4b344-1ace-4cc4-dd13-76062229119d",
        "colab": {
          "base_uri": "https://localhost:8080/",
          "height": 102
        }
      },
      "source": [
        "examples = 5\n",
        "input_size = 3\n",
        "hidden_size = 9\n",
        "\n",
        "rnn = nn.RNN(input_size, hidden_size, 2)\n",
        "# input_size – The number of expected features in the input x\n",
        "# hidden_size – The number of features in the hidden state h\n",
        "# num_layers – \n",
        "\n",
        "print(rnn)\n",
        "\n",
        "inputs = torch.randn(examples, 3, 3) # input of network\n",
        "\n",
        "h0 = torch.randn(2, 3, hidden_size) # initial hidden state\n",
        "\n",
        "output, hn = rnn(inputs, h0) # returns output and actual hidden state\n",
        "inputs.shape, output.shape, hn.shape, h0.shape"
      ],
      "execution_count": 449,
      "outputs": [
        {
          "output_type": "stream",
          "text": [
            "RNN(3, 9, num_layers=2)\n"
          ],
          "name": "stdout"
        },
        {
          "output_type": "execute_result",
          "data": {
            "text/plain": [
              "(torch.Size([5, 3, 3]),\n",
              " torch.Size([5, 3, 9]),\n",
              " torch.Size([2, 3, 9]),\n",
              " torch.Size([2, 3, 9]))"
            ]
          },
          "metadata": {
            "tags": []
          },
          "execution_count": 449
        }
      ]
    },
    {
      "cell_type": "markdown",
      "metadata": {
        "id": "3XWsqcF1p8Rd",
        "colab_type": "text"
      },
      "source": [
        "[Visual Guide: LSTM & GRU](https://www.youtube.com/watch?v=8HyCNIVRbSU)\n",
        "\n",
        "### LSTM\n",
        "\n",
        "[link colah](https://colah.github.io/posts/2015-08-Understanding-LSTMs/)\n",
        "The key is to think about the three gates (input, output, and forget)\n",
        "\n"
      ]
    },
    {
      "cell_type": "code",
      "metadata": {
        "id": "sIB_1fgbw51h",
        "colab_type": "code",
        "outputId": "38c8df67-6ce3-4c90-c35e-4403fffc9362",
        "colab": {
          "base_uri": "https://localhost:8080/",
          "height": 34
        }
      },
      "source": [
        "rnn = nn.LSTM(10, 20, 2)\n",
        "inputs = torch.randn(5, 3, 10)\n",
        "h0 = torch.randn(2, 3, 20)\n",
        "c0 = torch.randn(2, 3, 20)\n",
        "output, (hn, cn) = rnn(inputs, (h0, c0))\n",
        "inputs.shape, output.shape"
      ],
      "execution_count": 450,
      "outputs": [
        {
          "output_type": "execute_result",
          "data": {
            "text/plain": [
              "(torch.Size([5, 3, 10]), torch.Size([5, 3, 20]))"
            ]
          },
          "metadata": {
            "tags": []
          },
          "execution_count": 450
        }
      ]
    },
    {
      "cell_type": "markdown",
      "metadata": {
        "id": "r2gH221Uw4aH",
        "colab_type": "text"
      },
      "source": [
        "\n",
        "### GRU\n",
        "Merged the forget gate with the output gate.\n",
        "They are less powerful than LSTMs.\n",
        "The LSTM may be a little slower in training, but may end up being the best choice in the end.\n"
      ]
    },
    {
      "cell_type": "code",
      "metadata": {
        "id": "i4SGKuGkxIfN",
        "colab_type": "code",
        "outputId": "cf11ab0f-df15-4fe9-dbf6-c3849d555a82",
        "colab": {
          "base_uri": "https://localhost:8080/",
          "height": 34
        }
      },
      "source": [
        "rnn = nn.GRU(10, 20, 2)\n",
        "inputs = torch.randn(5, 3, 10)\n",
        "h0 = torch.randn(2, 3, 20)\n",
        "output, hn = rnn(inputs, h0)\n",
        "inputs.shape, output.shape"
      ],
      "execution_count": 451,
      "outputs": [
        {
          "output_type": "execute_result",
          "data": {
            "text/plain": [
              "(torch.Size([5, 3, 10]), torch.Size([5, 3, 20]))"
            ]
          },
          "metadata": {
            "tags": []
          },
          "execution_count": 451
        }
      ]
    },
    {
      "cell_type": "markdown",
      "metadata": {
        "id": "6NDzj9X4xHgn",
        "colab_type": "text"
      },
      "source": [
        "\n",
        "\n",
        "### biLSTM\n",
        "sometimes you need to see the future, as translation or writting.\n",
        "it’s essentially two stacked LSTMs, with the input being sent in the forward direction in one LSTM and reversed in the second.\n"
      ]
    },
    {
      "cell_type": "code",
      "metadata": {
        "id": "kIcf_pIDic3s",
        "colab_type": "code",
        "outputId": "fa0b4572-ccce-4c1a-cf60-9c7b99e81c3e",
        "colab": {
          "base_uri": "https://localhost:8080/",
          "height": 34
        }
      },
      "source": [
        "rnn = nn.LSTM(10, 20, 2, bidirectional=True)\n",
        "inputs = torch.randn(5, 3, 10)\n",
        "h0 = torch.randn(4, 3, 20) # duplicate size\n",
        "c0 = torch.randn(4, 3, 20) # duplicate size\n",
        "output, (hn, cn) = rnn(inputs, (h0, c0))\n",
        "inputs.shape, output.shape"
      ],
      "execution_count": 452,
      "outputs": [
        {
          "output_type": "execute_result",
          "data": {
            "text/plain": [
              "(torch.Size([5, 3, 10]), torch.Size([5, 3, 40]))"
            ]
          },
          "metadata": {
            "tags": []
          },
          "execution_count": 452
        }
      ]
    },
    {
      "cell_type": "markdown",
      "metadata": {
        "id": "42w_HkYaghzU",
        "colab_type": "text"
      },
      "source": [
        "### Embeddings\n",
        "[link]( https://pytorch.org/tutorials/beginner/nlp/word_embeddings_tutorial.html)\n",
        "first approach: \n",
        "- one-hot encoding of the words.\n",
        "- unk, start, stop are tokens\n",
        "\n",
        "A famous example of embedding vectors is word2vec.  This was a set of word embeddings trained using a shallow neural network, and it revealed that the transformation into vector space seemed to capture something about the concepts underpinning the words.\n",
        "\n",
        "Other pretrained embeddings: GloVe, ELMo, fasttext"
      ]
    },
    {
      "cell_type": "code",
      "metadata": {
        "id": "2mmQpkBUxXzy",
        "colab_type": "code",
        "outputId": "95a384e8-9abe-499d-fed5-ff839be9215b",
        "colab": {
          "base_uri": "https://localhost:8080/",
          "height": 187
        }
      },
      "source": [
        "vocab_size=10\n",
        "dimension_size=2\n",
        "\n",
        "# This will contain a tensor of vocab_size x dimension_size\n",
        "embed = nn.Embedding(vocab_size, dimension_size)\n",
        "\n",
        "inputs = torch.tensor([1,2,3,4,5])\n",
        "\n",
        "embed(inputs), embed.forward(inputs)"
      ],
      "execution_count": 453,
      "outputs": [
        {
          "output_type": "execute_result",
          "data": {
            "text/plain": [
              "(tensor([[ 0.3748,  0.9676],\n",
              "         [ 0.1376, -1.2762],\n",
              "         [ 0.3756,  1.6587],\n",
              "         [ 0.9196,  0.8289],\n",
              "         [ 2.3829,  0.8844]], grad_fn=<EmbeddingBackward>),\n",
              " tensor([[ 0.3748,  0.9676],\n",
              "         [ 0.1376, -1.2762],\n",
              "         [ 0.3756,  1.6587],\n",
              "         [ 0.9196,  0.8289],\n",
              "         [ 2.3829,  0.8844]], grad_fn=<EmbeddingBackward>))"
            ]
          },
          "metadata": {
            "tags": []
          },
          "execution_count": 453
        }
      ]
    },
    {
      "cell_type": "code",
      "metadata": {
        "id": "aPC3wsaojqYm",
        "colab_type": "code",
        "colab": {}
      },
      "source": [
        "%%capture output\n",
        "!pip install torchtext==0.6.0\n",
        "import torchtext\n",
        "import pandas as pd"
      ],
      "execution_count": 0,
      "outputs": []
    },
    {
      "cell_type": "markdown",
      "metadata": {
        "id": "SDIrqh6DPju2",
        "colab_type": "text"
      },
      "source": [
        "Data were downloaded from http://help.sentiment140.com/for-students"
      ]
    },
    {
      "cell_type": "code",
      "metadata": {
        "id": "TKNxe_enkmmS",
        "colab_type": "code",
        "colab": {}
      },
      "source": [
        "# %%capture output\n",
        "!wget -nc -nv http://cs.stanford.edu/people/alecmgo/trainingandtestdata.zip"
      ],
      "execution_count": 0,
      "outputs": []
    },
    {
      "cell_type": "code",
      "metadata": {
        "id": "lQiOQWkyl-i-",
        "colab_type": "code",
        "outputId": "4f43fa69-f5a7-4507-a0ad-6f66b2c68937",
        "colab": {
          "base_uri": "https://localhost:8080/",
          "height": 68
        }
      },
      "source": [
        "# %%capture output\n",
        "!unzip -o trainingandtestdata.zip -d ./"
      ],
      "execution_count": 456,
      "outputs": [
        {
          "output_type": "stream",
          "text": [
            "Archive:  trainingandtestdata.zip\n",
            "  inflating: ./testdata.manual.2009.06.14.csv  \n",
            "  inflating: ./training.1600000.processed.noemoticon.csv  \n"
          ],
          "name": "stdout"
        }
      ]
    },
    {
      "cell_type": "code",
      "metadata": {
        "id": "3ybr2GaduBko",
        "colab_type": "code",
        "colab": {}
      },
      "source": [
        "# 0 - the polarity of the tweet (0 = negative, 2 = neutral, 4 = positive)\n",
        "# 1 - the id of the tweet (2087)\n",
        "# 2 - the date of the tweet (Sat May 16 23:58:44 UTC 2009)\n",
        "# 3 - the query (lyx). If there is no query, then this value is NO_QUERY.\n",
        "# 4 - the user that tweeted (robotickilldozr)\n",
        "# 5 - the text of the tweet (Lyx is cool)\n",
        "\n",
        "columns = ['polarity', 'id', 'date', 'query', 'user', 'text']"
      ],
      "execution_count": 0,
      "outputs": []
    },
    {
      "cell_type": "markdown",
      "metadata": {
        "id": "C_Uhu4fkp-_W",
        "colab_type": "text"
      },
      "source": [
        "## Start Learning"
      ]
    },
    {
      "cell_type": "markdown",
      "metadata": {
        "id": "dLx8mfiXOPeJ",
        "colab_type": "text"
      },
      "source": [
        "\n",
        "### Explore dataset\n",
        "If you explore the ./content/... folder you will see 2 new files: \n",
        "- /content/testdata.manual.2009.06.14.csv: for testing purpose\n",
        "- /content/training.1600000.processed.noemoticon.csv: for training purpose\n"
      ]
    },
    {
      "cell_type": "code",
      "metadata": {
        "id": "W6tkR5a9mb_q",
        "colab_type": "code",
        "outputId": "754d27c4-1741-4886-984c-5d4b21c5cb04",
        "colab": {
          "base_uri": "https://localhost:8080/",
          "height": 289
        }
      },
      "source": [
        "data = pd.read_csv('./training.1600000.processed.noemoticon.csv', \n",
        "                   header=None,\n",
        "                   encoding='latin')\n",
        "datatest = pd.read_csv('./testdata.manual.2009.06.14.csv', \n",
        "                   header=None,\n",
        "                   encoding='latin')\n",
        "data.columns = columns\n",
        "datatest.columns = columns\n",
        "data.sample(5)"
      ],
      "execution_count": 458,
      "outputs": [
        {
          "output_type": "execute_result",
          "data": {
            "text/html": [
              "<div>\n",
              "<style scoped>\n",
              "    .dataframe tbody tr th:only-of-type {\n",
              "        vertical-align: middle;\n",
              "    }\n",
              "\n",
              "    .dataframe tbody tr th {\n",
              "        vertical-align: top;\n",
              "    }\n",
              "\n",
              "    .dataframe thead th {\n",
              "        text-align: right;\n",
              "    }\n",
              "</style>\n",
              "<table border=\"1\" class=\"dataframe\">\n",
              "  <thead>\n",
              "    <tr style=\"text-align: right;\">\n",
              "      <th></th>\n",
              "      <th>polarity</th>\n",
              "      <th>id</th>\n",
              "      <th>date</th>\n",
              "      <th>query</th>\n",
              "      <th>user</th>\n",
              "      <th>text</th>\n",
              "    </tr>\n",
              "  </thead>\n",
              "  <tbody>\n",
              "    <tr>\n",
              "      <th>1298687</th>\n",
              "      <td>4</td>\n",
              "      <td>2005311576</td>\n",
              "      <td>Tue Jun 02 09:30:55 PDT 2009</td>\n",
              "      <td>NO_QUERY</td>\n",
              "      <td>Naome</td>\n",
              "      <td>Am looking forward to watching Twilight with s...</td>\n",
              "    </tr>\n",
              "    <tr>\n",
              "      <th>1413563</th>\n",
              "      <td>4</td>\n",
              "      <td>2056860959</td>\n",
              "      <td>Sat Jun 06 11:55:59 PDT 2009</td>\n",
              "      <td>NO_QUERY</td>\n",
              "      <td>hipEchik</td>\n",
              "      <td>@car4dave Never mind Debra...what are YOU gonn...</td>\n",
              "    </tr>\n",
              "    <tr>\n",
              "      <th>387626</th>\n",
              "      <td>0</td>\n",
              "      <td>2054053245</td>\n",
              "      <td>Sat Jun 06 06:26:11 PDT 2009</td>\n",
              "      <td>NO_QUERY</td>\n",
              "      <td>SongBird502</td>\n",
              "      <td>at work, so i'll have to chat later.</td>\n",
              "    </tr>\n",
              "    <tr>\n",
              "      <th>773451</th>\n",
              "      <td>0</td>\n",
              "      <td>2303248857</td>\n",
              "      <td>Tue Jun 23 17:56:01 PDT 2009</td>\n",
              "      <td>NO_QUERY</td>\n",
              "      <td>haleyhodgson14</td>\n",
              "      <td>Weee I'm goin up north with my bffl sofia!!!!!...</td>\n",
              "    </tr>\n",
              "    <tr>\n",
              "      <th>1341233</th>\n",
              "      <td>4</td>\n",
              "      <td>2031329284</td>\n",
              "      <td>Thu Jun 04 09:39:49 PDT 2009</td>\n",
              "      <td>NO_QUERY</td>\n",
              "      <td>KellyB_</td>\n",
              "      <td>@BethRussell_ thanks Beth Russell  I think I w...</td>\n",
              "    </tr>\n",
              "  </tbody>\n",
              "</table>\n",
              "</div>"
            ],
            "text/plain": [
              "         polarity  ...                                               text\n",
              "1298687         4  ...  Am looking forward to watching Twilight with s...\n",
              "1413563         4  ...  @car4dave Never mind Debra...what are YOU gonn...\n",
              "387626          0  ...              at work, so i'll have to chat later. \n",
              "773451          0  ...  Weee I'm goin up north with my bffl sofia!!!!!...\n",
              "1341233         4  ...  @BethRussell_ thanks Beth Russell  I think I w...\n",
              "\n",
              "[5 rows x 6 columns]"
            ]
          },
          "metadata": {
            "tags": []
          },
          "execution_count": 458
        }
      ]
    },
    {
      "cell_type": "code",
      "metadata": {
        "id": "sDyHSuIhIcTA",
        "colab_type": "code",
        "outputId": "fb24da7b-2813-44af-a19f-198094abe6b3",
        "colab": {
          "base_uri": "https://localhost:8080/",
          "height": 476
        }
      },
      "source": [
        "data.info(), datatest.info()"
      ],
      "execution_count": 459,
      "outputs": [
        {
          "output_type": "stream",
          "text": [
            "<class 'pandas.core.frame.DataFrame'>\n",
            "RangeIndex: 1600000 entries, 0 to 1599999\n",
            "Data columns (total 6 columns):\n",
            " #   Column    Non-Null Count    Dtype \n",
            "---  ------    --------------    ----- \n",
            " 0   polarity  1600000 non-null  int64 \n",
            " 1   id        1600000 non-null  int64 \n",
            " 2   date      1600000 non-null  object\n",
            " 3   query     1600000 non-null  object\n",
            " 4   user      1600000 non-null  object\n",
            " 5   text      1600000 non-null  object\n",
            "dtypes: int64(2), object(4)\n",
            "memory usage: 73.2+ MB\n",
            "<class 'pandas.core.frame.DataFrame'>\n",
            "RangeIndex: 498 entries, 0 to 497\n",
            "Data columns (total 6 columns):\n",
            " #   Column    Non-Null Count  Dtype \n",
            "---  ------    --------------  ----- \n",
            " 0   polarity  498 non-null    int64 \n",
            " 1   id        498 non-null    int64 \n",
            " 2   date      498 non-null    object\n",
            " 3   query     498 non-null    object\n",
            " 4   user      498 non-null    object\n",
            " 5   text      498 non-null    object\n",
            "dtypes: int64(2), object(4)\n",
            "memory usage: 23.5+ KB\n"
          ],
          "name": "stdout"
        },
        {
          "output_type": "execute_result",
          "data": {
            "text/plain": [
              "(None, None)"
            ]
          },
          "metadata": {
            "tags": []
          },
          "execution_count": 459
        }
      ]
    },
    {
      "cell_type": "code",
      "metadata": {
        "id": "4w1zQ3m0mmi-",
        "colab_type": "code",
        "outputId": "47e516f1-8de7-4489-948a-34151ec4e102",
        "colab": {
          "base_uri": "https://localhost:8080/",
          "height": 799
        }
      },
      "source": [
        "data.loc[:,'query'].value_counts()[0:10].plot.bar(figsize=(10,5))\n",
        "plt.show()\n",
        "\n",
        "datatest.loc[:,'query'].value_counts()[0:10].plot.bar(figsize=(10,5))"
      ],
      "execution_count": 460,
      "outputs": [
        {
          "output_type": "display_data",
          "data": {
            "image/png": "[encoded data removed]",
            "text/plain": [
              "<Figure size 720x360 with 1 Axes>"
            ]
          },
          "metadata": {
            "tags": []
          }
        },
        {
          "output_type": "execute_result",
          "data": {
            "text/plain": [
              "<matplotlib.axes._subplots.AxesSubplot at 0x7f0b562fd390>"
            ]
          },
          "metadata": {
            "tags": []
          },
          "execution_count": 460
        },
        {
          "output_type": "display_data",
          "data": {
            "image/png": "[encoded data removed]",
            "text/plain": [
              "<Figure size 720x360 with 1 Axes>"
            ]
          },
          "metadata": {
            "tags": []
          }
        }
      ]
    },
    {
      "cell_type": "markdown",
      "metadata": {
        "id": "iEt5gmn9PF50",
        "colab_type": "text"
      },
      "source": [
        "The above graphs shows the feature \"query\". In testing has many values, but in trainig only \"NO_QUERY\". So, we will discard it."
      ]
    },
    {
      "cell_type": "code",
      "metadata": {
        "id": "hpAjM07bm7jU",
        "colab_type": "code",
        "outputId": "889787a9-e3b2-461b-9656-179438ac8c4f",
        "colab": {
          "base_uri": "https://localhost:8080/",
          "height": 693
        }
      },
      "source": [
        "# (0 = negative, 2 = neutral, 4 = positive)\n",
        "data['polarity'].value_counts()[0:10].plot.bar(figsize=(5,5))\n",
        "plt.xticks([0,1],[\"Positive\", \"Negative\"])\n",
        "plt.show()\n",
        "\n",
        "datatest['polarity'].value_counts()[0:10].plot.bar(figsize=(5,5))\n",
        "plt.xticks([0,1,2],[\"Positive\", \"Negative\", \"Neutral\"])\n",
        "plt.show()"
      ],
      "execution_count": 461,
      "outputs": [
        {
          "output_type": "display_data",
          "data": {
            "image/png": "[encoded data removed]",
            "text/plain": [
              "<Figure size 360x360 with 1 Axes>"
            ]
          },
          "metadata": {
            "tags": []
          }
        },
        {
          "output_type": "display_data",
          "data": {
            "image/png": "[encoded data removed]",
            "text/plain": [
              "<Figure size 360x360 with 1 Axes>"
            ]
          },
          "metadata": {
            "tags": []
          }
        }
      ]
    },
    {
      "cell_type": "markdown",
      "metadata": {
        "id": "JsrneWhGOWGc",
        "colab_type": "text"
      },
      "source": [
        "Save polarity as a category (0,1,2)"
      ]
    },
    {
      "cell_type": "code",
      "metadata": {
        "id": "oW0BPWtDnw1n",
        "colab_type": "code",
        "colab": {}
      },
      "source": [
        "dtype = datatest['polarity'].astype('category').dtype\n",
        "data['polarity_cat'] = data.polarity.astype(dtype)\n",
        "datatest['polarity_cat'] = datatest.polarity.astype(dtype)"
      ],
      "execution_count": 0,
      "outputs": []
    },
    {
      "cell_type": "code",
      "metadata": {
        "id": "o7B1rmgwosh3",
        "colab_type": "code",
        "colab": {}
      },
      "source": [
        "data['old_polarity'] = data.polarity\n",
        "datatest['old_polarity'] = data.polarity\n",
        "data.polarity = data.polarity_cat.cat.codes\n",
        "datatest.polarity = datatest.polarity_cat.cat.codes"
      ],
      "execution_count": 0,
      "outputs": []
    },
    {
      "cell_type": "code",
      "metadata": {
        "id": "_8fhCiRwczu2",
        "colab_type": "code",
        "colab": {}
      },
      "source": [
        "cats = pd.Series([0,2,4], dtype=dtype)\n",
        "\n",
        "dictcats = { code: cat for code, cat in zip(cats.cat.codes.values, cats.cat.categories.values)}\n",
        "dictcats\n",
        "dictcats_names = { 0: \"negative\", 2: \"neutral\", 4: \"positive\" }"
      ],
      "execution_count": 0,
      "outputs": []
    },
    {
      "cell_type": "markdown",
      "metadata": {
        "id": "nnwfzgO1Oe2g",
        "colab_type": "text"
      },
      "source": [
        "See some examples"
      ]
    },
    {
      "cell_type": "code",
      "metadata": {
        "id": "eVRQRXfbt-P4",
        "colab_type": "code",
        "outputId": "57f5b3e3-fac9-4dd3-a90f-d8bfc9c815a0",
        "colab": {
          "base_uri": "https://localhost:8080/",
          "height": 224
        }
      },
      "source": [
        "print(data.iloc[data.text.str.count(' ').argsort()[-10::]].text.values)\n",
        "print(data.text.str.count(' ').max())"
      ],
      "execution_count": 465,
      "outputs": [
        {
          "output_type": "stream",
          "text": [
            "[\"Heute Hannah Montana - Der Film                                                                  I'm Yours - Jason Mraz \"\n",
            " 'Guten Morgen Twitterland                         Happy Birthday Dad                                                I love you '\n",
            " 'Ry, food in toaster oven-Cu in AM!                                                                        Gnight All!  '\n",
            " 'I want to work                                                                            Just finished bathing :o'\n",
            " 'Do you like matheW?                                                                                   SumMEr oH*9 (:'\n",
            " 'loved seeing elena ! i love my worm  exhausted xx                                                                               __'\n",
            " '-----&gt;bite hard&lt;----                                                                                       damn this blows.'\n",
            " 'will i ever stop feeling crappy?  all signs point to no.                                                                                 '\n",
            " '@lectronice yes indeed                                                                                               here I am again'\n",
            " \"I'm Supa Bored                                                                                                       Yay For twitter Spam \"]\n",
            "109\n"
          ],
          "name": "stdout"
        }
      ]
    },
    {
      "cell_type": "code",
      "metadata": {
        "id": "eJr8fV7Fow1y",
        "colab_type": "code",
        "outputId": "58c1f6fc-51b3-4bfe-ab8a-328cd7ea6464",
        "colab": {
          "base_uri": "https://localhost:8080/",
          "height": 68
        }
      },
      "source": [
        "data.to_csv('./processed_train.csv', header=None, index = None)\n",
        "datatest.to_csv('./processed_test.csv', header=None, index = None)\n",
        "data.columns"
      ],
      "execution_count": 466,
      "outputs": [
        {
          "output_type": "execute_result",
          "data": {
            "text/plain": [
              "Index(['polarity', 'id', 'date', 'query', 'user', 'text', 'polarity_cat',\n",
              "       'old_polarity'],\n",
              "      dtype='object')"
            ]
          },
          "metadata": {
            "tags": []
          },
          "execution_count": 466
        }
      ]
    },
    {
      "cell_type": "markdown",
      "metadata": {
        "id": "YKU0HTONPD4n",
        "colab_type": "text"
      },
      "source": [
        "### Data Ingestion as TabularDataset\n",
        "\n",
        "There are various built-in Datasets in torchtext that handle common data formats. For csv/tsv files, the TabularDataset class is convenient.\n",
        "\n",
        "For the TabularDataset, we pass in a list of (name, field) pairs as the fields argument. The fields we pass in must be in the same order as the columns. For the columns we don't use, we pass in a tuple where the field element is None"
      ]
    },
    {
      "cell_type": "code",
      "metadata": {
        "id": "edfOpT6eo3qL",
        "colab_type": "code",
        "colab": {}
      },
      "source": [
        "## Defining fields for the model\n",
        "# https://pytorch.org/text/data.html#field\n",
        "\n",
        "LABEL = torchtext.data.LabelField()\n",
        "TWEET = torchtext.data.Field(tokenize='spacy', lower=True)"
      ],
      "execution_count": 0,
      "outputs": []
    },
    {
      "cell_type": "code",
      "metadata": {
        "id": "v3uG1y95vN0k",
        "colab_type": "code",
        "colab": {}
      },
      "source": [
        "fields = [\n",
        "  ('polarity', LABEL), \n",
        "  ('id',None),\n",
        "  ('date',None),\n",
        "  ('query',None),\n",
        "  ('user',None),\n",
        "  ('text', TWEET),\n",
        "  ('polarity_cat', None),\n",
        "  ('old_polarity', None)\n",
        "]\n"
      ],
      "execution_count": 0,
      "outputs": []
    },
    {
      "cell_type": "code",
      "metadata": {
        "id": "4f-b9QzywArW",
        "colab_type": "code",
        "colab": {}
      },
      "source": [
        "twitterDataset = torchtext.data.TabularDataset(\n",
        "      path='./processed_test.csv',\n",
        "      format=\"CSV\",\n",
        "      fields=fields,\n",
        "      skip_header=False\n",
        ")"
      ],
      "execution_count": 0,
      "outputs": []
    },
    {
      "cell_type": "code",
      "metadata": {
        "id": "EoXEAnXywHul",
        "colab_type": "code",
        "outputId": "83f1f8fd-1c08-41ad-9aca-8ec01bcd82f0",
        "colab": {
          "base_uri": "https://localhost:8080/",
          "height": 34
        }
      },
      "source": [
        "(train, test, valid) = twitterDataset.split(split_ratio=[0.8,0.1,0.1])\n",
        "print(len(train), len(test), len(valid))"
      ],
      "execution_count": 470,
      "outputs": [
        {
          "output_type": "stream",
          "text": [
            "398 50 50\n"
          ],
          "name": "stdout"
        }
      ]
    },
    {
      "cell_type": "code",
      "metadata": {
        "id": "gGETqvbkM-ax",
        "colab_type": "code",
        "outputId": "246f0092-f429-4492-b98a-ed6978233df5",
        "colab": {
          "base_uri": "https://localhost:8080/",
          "height": 34
        }
      },
      "source": [
        "train[0] == train.examples[0]"
      ],
      "execution_count": 471,
      "outputs": [
        {
          "output_type": "execute_result",
          "data": {
            "text/plain": [
              "True"
            ]
          },
          "metadata": {
            "tags": []
          },
          "execution_count": 471
        }
      ]
    },
    {
      "cell_type": "code",
      "metadata": {
        "id": "jBm0BAiUNXoH",
        "colab_type": "code",
        "outputId": "1572dd50-80b3-46dd-9d35-39be97b21496",
        "colab": {
          "base_uri": "https://localhost:8080/",
          "height": 54
        }
      },
      "source": [
        "\" \".join(train[0].text)"
      ],
      "execution_count": 472,
      "outputs": [
        {
          "output_type": "execute_result",
          "data": {
            "text/plain": [
              "'rt @blknprecious1 : rt great @dbroos \" someone \\'s sitting in the shade today because someone planted a tree a long time ago . \"- warren buffet'"
            ]
          },
          "metadata": {
            "tags": []
          },
          "execution_count": 472
        }
      ]
    },
    {
      "cell_type": "code",
      "metadata": {
        "id": "RrTxadd6NuLj",
        "colab_type": "code",
        "outputId": "dc765223-9f41-4b93-8a7f-6224f923227e",
        "colab": {
          "base_uri": "https://localhost:8080/",
          "height": 34
        }
      },
      "source": [
        "train[0].polarity"
      ],
      "execution_count": 473,
      "outputs": [
        {
          "output_type": "execute_result",
          "data": {
            "text/plain": [
              "'2'"
            ]
          },
          "metadata": {
            "tags": []
          },
          "execution_count": 473
        }
      ]
    },
    {
      "cell_type": "markdown",
      "metadata": {
        "id": "nF4eWnFTN-Bn",
        "colab_type": "text"
      },
      "source": [
        "Torchtext handles mapping words to integers, but it has to be told the full range of words it should handle. \n",
        "\n",
        "This makes torchtext go through all the elements in the training set, check the contents corresponding to the TEXT and LABEL fields, and register the words in its vocabulary. "
      ]
    },
    {
      "cell_type": "code",
      "metadata": {
        "id": "_0H9SIZVzLxd",
        "colab_type": "code",
        "colab": {}
      },
      "source": [
        "# Build a vocabulary\n",
        "vocab_size = 20000\n",
        "TWEET.build_vocab(train, max_size = vocab_size)\n",
        "LABEL.build_vocab(train)"
      ],
      "execution_count": 0,
      "outputs": []
    },
    {
      "cell_type": "markdown",
      "metadata": {
        "id": "yLsnRCxSQFvf",
        "colab_type": "text"
      },
      "source": [
        "After building vocab, the Vocab class holds a mapping from word to id in its `stoi` attribute and a reverse mapping in its `itos` attribute. "
      ]
    },
    {
      "cell_type": "code",
      "metadata": {
        "id": "C8-6al3RP6Tm",
        "colab_type": "code",
        "outputId": "cf501d4d-110a-44f2-b780-c9537e56723c",
        "colab": {
          "base_uri": "https://localhost:8080/",
          "height": 85
        }
      },
      "source": [
        "print( TWEET.vocab.itos[0:10] )\n",
        "print( TWEET.vocab.stoi['algoquenoexiste'])\n",
        "print( TWEET.vocab.stoi['!'])\n",
        "print( TWEET.vocab.stoi['lebron'] )\n"
      ],
      "execution_count": 475,
      "outputs": [
        {
          "output_type": "stream",
          "text": [
            "['<unk>', '<pad>', '.', 'the', '!', 'i', 'to', ',', 'a', 'is']\n",
            "0\n",
            "4\n",
            "59\n"
          ],
          "name": "stdout"
        }
      ]
    },
    {
      "cell_type": "code",
      "metadata": {
        "id": "zNUrjvb1UIhN",
        "colab_type": "code",
        "outputId": "dd2a59d0-1709-456d-9727-5fe7b231d0f6",
        "colab": {
          "base_uri": "https://localhost:8080/",
          "height": 34
        }
      },
      "source": [
        "print([ TWEET.vocab.stoi[word.lower()] for word in \"@foxnews Pelosi should stay in China and never come back\".split(' ')])"
      ],
      "execution_count": 476,
      "outputs": [
        {
          "output_type": "stream",
          "text": [
            "[691, 272, 280, 1748, 22, 96, 10, 174, 160, 92]\n"
          ],
          "name": "stdout"
        }
      ]
    },
    {
      "cell_type": "markdown",
      "metadata": {
        "id": "nE_TspxpVKSP",
        "colab_type": "text"
      },
      "source": [
        "see: [ why torch see in columns instead of rows? ]"
      ]
    },
    {
      "cell_type": "markdown",
      "metadata": {
        "id": "OBFQzYQRz-ZZ",
        "colab_type": "text"
      },
      "source": [
        "**vocabulary size**\n",
        "\n",
        "torchtext will add two more special tokens, `<unk>` for unknown words and `<pad>` , a padding token that will be used to pad all our text to roughly the same size.\n"
      ]
    },
    {
      "cell_type": "code",
      "metadata": {
        "id": "r-j7A8WZ1EUp",
        "colab_type": "code",
        "outputId": "d9522de6-9b04-4a86-9002-d49f3b383740",
        "colab": {
          "base_uri": "https://localhost:8080/",
          "height": 34
        }
      },
      "source": [
        "len(TWEET.vocab), len(LABEL.vocab)"
      ],
      "execution_count": 477,
      "outputs": [
        {
          "output_type": "execute_result",
          "data": {
            "text/plain": [
              "(1941, 3)"
            ]
          },
          "metadata": {
            "tags": []
          },
          "execution_count": 477
        }
      ]
    },
    {
      "cell_type": "markdown",
      "metadata": {
        "id": "2ZCilIuo1RTx",
        "colab_type": "text"
      },
      "source": [
        "You can also specify eos_token or init_token symbols when you declare a field, but they’re not included by default."
      ]
    },
    {
      "cell_type": "code",
      "metadata": {
        "id": "d3dOsnEjGSk0",
        "colab_type": "code",
        "outputId": "70959016-1919-4cb6-ff16-05b72da43a04",
        "colab": {
          "base_uri": "https://localhost:8080/",
          "height": 34
        }
      },
      "source": [
        "TWEET.preprocess(\"Esto es un ejemplo\")"
      ],
      "execution_count": 478,
      "outputs": [
        {
          "output_type": "execute_result",
          "data": {
            "text/plain": [
              "['esto', 'es', 'un', 'ejemplo']"
            ]
          },
          "metadata": {
            "tags": []
          },
          "execution_count": 478
        }
      ]
    },
    {
      "cell_type": "code",
      "metadata": {
        "id": "T1tFPTsr427C",
        "colab_type": "code",
        "outputId": "5a96f2c6-e9dd-4e0f-f97e-028c31e0879c",
        "colab": {
          "base_uri": "https://localhost:8080/",
          "height": 102
        }
      },
      "source": [
        "np.array(TWEET.pad([\"Esto es un ejemplo\", \"perro viejo\"])).reshape(-1,18)"
      ],
      "execution_count": 479,
      "outputs": [
        {
          "output_type": "execute_result",
          "data": {
            "text/plain": [
              "array([['E', 's', 't', 'o', ' ', 'e', 's', ' ', 'u', 'n', ' ', 'e', 'j',\n",
              "        'e', 'm', 'p', 'l', 'o'],\n",
              "       ['p', 'e', 'r', 'r', 'o', ' ', 'v', 'i', 'e', 'j', 'o', '<pad>',\n",
              "        '<pad>', '<pad>', '<pad>', '<pad>', '<pad>', '<pad>']],\n",
              "      dtype='<U5')"
            ]
          },
          "metadata": {
            "tags": []
          },
          "execution_count": 479
        }
      ]
    },
    {
      "cell_type": "code",
      "metadata": {
        "id": "i9UjzgzkJPb5",
        "colab_type": "code",
        "outputId": "dfc53efc-010d-4d94-c91d-9667324c45f8",
        "colab": {
          "base_uri": "https://localhost:8080/",
          "height": 68
        }
      },
      "source": [
        "processed = TWEET.process(\"This is a huge house\")\n",
        "processed, processed.shape"
      ],
      "execution_count": 480,
      "outputs": [
        {
          "output_type": "execute_result",
          "data": {
            "text/plain": [
              "(tensor([[   0,    0,    5,    0,   16,    5,    0,   16,    8,   16,    0,  116,\n",
              "             0, 1063,   16,    0,  211,  116,    0, 1063]]),\n",
              " torch.Size([1, 20]))"
            ]
          },
          "metadata": {
            "tags": []
          },
          "execution_count": 480
        }
      ]
    },
    {
      "cell_type": "code",
      "metadata": {
        "id": "RtMn9FMp00fy",
        "colab_type": "code",
        "outputId": "0b690c5b-d613-49e5-8192-e6bc66ee0c8f",
        "colab": {
          "base_uri": "https://localhost:8080/",
          "height": 187
        }
      },
      "source": [
        "TWEET.vocab.freqs.most_common(10)"
      ],
      "execution_count": 481,
      "outputs": [
        {
          "output_type": "execute_result",
          "data": {
            "text/plain": [
              "[('.', 311),\n",
              " ('the', 189),\n",
              " ('!', 163),\n",
              " ('i', 148),\n",
              " ('to', 125),\n",
              " (',', 121),\n",
              " ('a', 107),\n",
              " ('is', 86),\n",
              " ('and', 76),\n",
              " ('at', 59)]"
            ]
          },
          "metadata": {
            "tags": []
          },
          "execution_count": 481
        }
      ]
    },
    {
      "cell_type": "markdown",
      "metadata": {
        "id": "Ff5CwEvfUxK7",
        "colab_type": "text"
      },
      "source": [
        "Note: we must do some cleaning task before this step."
      ]
    },
    {
      "cell_type": "markdown",
      "metadata": {
        "id": "Rxftq9DURRA5",
        "colab_type": "text"
      },
      "source": [
        "The BucketIterator is one of the most powerful features of torchtext. It automatically shuffles and buckets the input sequences into sequences of similar length"
      ]
    },
    {
      "cell_type": "code",
      "metadata": {
        "id": "qrP7v16-1WN0",
        "colab_type": "code",
        "colab": {}
      },
      "source": [
        "train_iterator, valid_iterator, test_iterator = torchtext.data.BucketIterator.splits(\n",
        "  (train, valid, test), \n",
        "  batch_size = 5, \n",
        "  device = 'cuda',\n",
        "  sort_key = lambda x: len(x.text),\n",
        "  sort_within_batch = False\n",
        ")\n",
        "# https://github.com/pytorch/text/issues/474#issue-379615560"
      ],
      "execution_count": 0,
      "outputs": []
    },
    {
      "cell_type": "markdown",
      "metadata": {
        "id": "IPMFrmcKVae2",
        "colab_type": "text"
      },
      "source": [
        "The columns represents our data encoded. So see above."
      ]
    },
    {
      "cell_type": "code",
      "metadata": {
        "id": "ObiC5OvGCT9h",
        "colab_type": "code",
        "outputId": "1be976eb-908e-4685-d5cc-2b43a9abdab2",
        "colab": {
          "base_uri": "https://localhost:8080/",
          "height": 459
        }
      },
      "source": [
        "for bix, b in enumerate(train_iterator):\n",
        "  print(bix, b.polarity, b.text.shape)\n",
        "  print(b.text) # columns are phrases [ sequence_size, batch_size ]\n",
        "  break"
      ],
      "execution_count": 483,
      "outputs": [
        {
          "output_type": "stream",
          "text": [
            "0 tensor([0, 0, 0, 0, 0], device='cuda:0') torch.Size([25, 5])\n",
            "tensor([[ 813,  445,   88,   89,    5],\n",
            "        [ 134,  129,    5,  738,   68],\n",
            "        [ 614,   24,  106,   13,  244],\n",
            "        [  47,   33,   48,   38,  277],\n",
            "        [  16,   12,  134,   26,   88],\n",
            "        [  19,   16, 1011, 1815,    2],\n",
            "        [  69,  445, 1906,   37,  462],\n",
            "        [ 805,    9, 1675,   43,    9],\n",
            "        [  22,  938,   55, 1398,  108],\n",
            "        [ 367,   10, 1388,  381,  140],\n",
            "        [ 417,  477,   17,   60,  167],\n",
            "        [ 367,    8,   61,  658,   54],\n",
            "        [   4,  834,   86,    1,  102],\n",
            "        [   4,   28,    7,    1,   66],\n",
            "        [   4, 1057,  127,    1,  152],\n",
            "        [   1,    2, 1413,    1,  158],\n",
            "        [   1,   16,   10,    1, 1852],\n",
            "        [   1, 1845,  754,    1,  156],\n",
            "        [   1,    9, 1805,    1,  138],\n",
            "        [   1,   70,    4,    1,    5],\n",
            "        [   1,  464,    1,    1,    6],\n",
            "        [   1,   10,    1,    1,  107],\n",
            "        [   1,  477,    1,    1,    1],\n",
            "        [   1,    8,    1,    1,    1],\n",
            "        [   1,  913,    1,    1,    1]], device='cuda:0')\n"
          ],
          "name": "stdout"
        }
      ]
    },
    {
      "cell_type": "markdown",
      "metadata": {
        "id": "aGFaGzKuYJgJ",
        "colab_type": "text"
      },
      "source": [
        "### Defining a model"
      ]
    },
    {
      "cell_type": "markdown",
      "metadata": {
        "id": "_xiu28LOzCVo",
        "colab_type": "text"
      },
      "source": [
        "The iterator returns shape => (sequence_len, batch_size)\n",
        "Embedding Layer:\n",
        "- input ( * )\n",
        "- output (*, embedding_size)\n",
        "\n",
        "So embedding returns shape => (seq_len, batch_size, embedding_size)\n",
        "\n",
        "Luego cualquier RNN, en este caso LSTM espera:\n",
        "- Input (seq_len, batch_size, input_size)\n",
        "\n",
        "- output: output, (h_n, c_n)\n",
        "  - output: (seq_len, batch, num_directions * hidden_size)\n",
        "  - h_n: (num_layers * num_directions, batch, hidden_size)\n",
        "  - c_n:(num_layers * num_directions, batch, hidden_size)\n",
        "\n",
        "In conclusion, input_size should be embedding_dim\n"
      ]
    },
    {
      "cell_type": "markdown",
      "metadata": {
        "id": "OmzKDdTr-uaC",
        "colab_type": "text"
      },
      "source": [
        "Ver https://towardsdatascience.com/understand-how-to-use-namedtuple-and-dataclass-in-python-e82e535c3691"
      ]
    },
    {
      "cell_type": "code",
      "metadata": {
        "id": "0y4NpQYg2fMA",
        "colab_type": "code",
        "colab": {}
      },
      "source": [
        "class ClassifierLSTM(nn.Module):\n",
        "  # https://github.com/jiangqy/LSTM-Classification-Pytorch/blob/master/utils/LSTMClassifier.py\n",
        "  def __init__(self, embedding_dim, vocab_size, hidden_size, num_classes, num_layers=1, bidirectional=False):\n",
        "    super(ClassifierLSTM, self).__init__()\n",
        "\n",
        "    self.hidden_size = hidden_size\n",
        "    self.num_layers = num_layers\n",
        "    self.bi = 2 if bidirectional else 1\n",
        "    self.fc_inputs = hidden_size*num_layers*self.bi\n",
        "\n",
        "    # the words in our text are pushed into an Embedding layer,\n",
        "    # https://pytorch.org/docs/stable/nn.html#embedding\n",
        "    self.embedding = nn.Embedding(vocab_size, embedding_dim)\n",
        "    \n",
        "    # That’s then fed into a LSTM with hidden_size hidden features\n",
        "    self.encoder = nn.LSTM(\n",
        "      input_size=embedding_dim,\n",
        "      hidden_size=hidden_size, \n",
        "      num_layers=num_layers,\n",
        "      bidirectional=bidirectional\n",
        "    )\n",
        "\n",
        "    # the final hidden state is pushed through a standard fully connected layer\n",
        "    self.predictor = nn.Linear(self.fc_inputs, num_classes)\n",
        "\n",
        "  def forward(self, seq):\n",
        "    # https://discuss.pytorch.org/t/understanding-lstm-input/31110\n",
        "    # https://discuss.pytorch.org/t/understanding-3-dimensions-of-input-in-nn-lstm-input-hidden/65813\n",
        "    # https://discuss.pytorch.org/t/understanding-output-of-lstm/12320/2?u=jpeg729\n",
        "    # https://stackoverflow.com/questions/49466894/how-to-correctly-give-inputs-to-embedding-lstm-and-linear-layers-in-pytorch\n",
        "    # https://stackoverflow.com/questions/48302810/whats-the-difference-between-hidden-and-output-in-pytorch-lstm/48305882#48305882\n",
        "    \n",
        "    output, (hidden,_) = self.encoder(self.embedding(seq))\n",
        "\n",
        "    preds = self.predictor(hidden.reshape(-1,self.fc_inputs))\n",
        "\n",
        "    return preds\n",
        "\n",
        "  def training_step(self, batch, loss_fn):\n",
        "    inputs, labels = batch \n",
        "    out = self(inputs) # Generate predictions call forward method\n",
        "    loss = loss_fn(out, labels) # Calculate loss\n",
        "    return loss\n",
        "    \n",
        "  def validation_step(self, batch, loss_fn, metric):\n",
        "    inputs, labels = batch \n",
        "    out = self(inputs)          # Generate predictions call forward method\n",
        "    loss = loss_fn(out, labels) # Calculate loss\n",
        "    acc = metric(out, labels)   # Calculate accuracy\n",
        "    return {'val_loss': loss, 'val_acc': acc}\n",
        "        \n",
        "  def validation_epoch_end(self, outputs):\n",
        "    #TODO: refactor\n",
        "    batch_losses = [x['val_loss'] for x in outputs]\n",
        "    epoch_loss = torch.stack(batch_losses).mean()   # Combine losses\n",
        "\n",
        "    batch_accs = [x['val_acc'] for x in outputs]\n",
        "    epoch_acc = torch.stack(batch_accs).mean()      # Combine accuracies\n",
        "\n",
        "    return {'val_loss': epoch_loss.item(), 'val_acc': epoch_acc.item()}\n",
        "    \n",
        "  def epoch_end(self, epoch, result):\n",
        "    print(\"Epoch [{}], val_loss: {:.4f}, val_acc: {:.4f}\".format(\n",
        "        epoch, \n",
        "        result['val_loss'], \n",
        "        result['val_acc'])\n",
        "    )\n",
        "    print(\"*\"*25)\n"
      ],
      "execution_count": 0,
      "outputs": []
    },
    {
      "cell_type": "code",
      "metadata": {
        "id": "BXWUNILhV-Zc",
        "colab_type": "code",
        "colab": {}
      },
      "source": [
        "from tqdm import tqdm\n",
        "\n",
        "def accuracy(outputs, labels):\n",
        "    _, preds = torch.max(outputs, dim=1)\n",
        "    return torch.tensor(torch.sum(preds == labels).item() / len(preds))\n",
        "\n",
        "def fit(epochs, model, train_iterator, val_loader, optimizer, loss_fn):\n",
        "    # TODO: return best_model\n",
        "    history = []\n",
        "\n",
        "    for epoch in range(1,epochs+1):\n",
        "        # Training Phase \n",
        "        model.train()\n",
        "        for bix, batch in enumerate(train_iterator):\n",
        "            inputs = (batch.text, batch.polarity)\n",
        "            optimizer.zero_grad()\n",
        "            loss = model.training_step(inputs, loss_fn)\n",
        "            loss.backward()\n",
        "            optimizer.step()\n",
        "        \n",
        "        # Validation phase\n",
        "        model.eval()\n",
        "        outputs = []\n",
        "        for bix, batch in enumerate(val_loader):\n",
        "          inputs = (batch.text, batch.polarity)\n",
        "          optimizer.zero_grad()\n",
        "          outputs.append(model.validation_step(inputs, loss_fn, accuracy))\n",
        "        results = model.validation_epoch_end(outputs)\n",
        "\n",
        "        # Epoch Ended\n",
        "        model.epoch_end(epoch, results)\n",
        "        history.append(results)\n",
        "\n",
        "    return history"
      ],
      "execution_count": 0,
      "outputs": []
    },
    {
      "cell_type": "code",
      "metadata": {
        "id": "qWfQHrS83HRL",
        "colab_type": "code",
        "outputId": "659bbc33-ab08-4700-cccf-0a3b344215c1",
        "colab": {
          "base_uri": "https://localhost:8080/",
          "height": 102
        }
      },
      "source": [
        "model = ClassifierLSTM(\n",
        "  hidden_size=100, \n",
        "  embedding_dim=300, \n",
        "  vocab_size=len(TWEET.vocab),\n",
        "  num_classes=3,\n",
        "  num_layers=1,\n",
        "  bidirectional=False\n",
        ")\n",
        "model.to('cuda')"
      ],
      "execution_count": 591,
      "outputs": [
        {
          "output_type": "execute_result",
          "data": {
            "text/plain": [
              "ClassifierLSTM(\n",
              "  (embedding): Embedding(1941, 300)\n",
              "  (encoder): LSTM(300, 100)\n",
              "  (predictor): Linear(in_features=100, out_features=3, bias=True)\n",
              ")"
            ]
          },
          "metadata": {
            "tags": []
          },
          "execution_count": 591
        }
      ]
    },
    {
      "cell_type": "code",
      "metadata": {
        "id": "q3Lklz7_6jLi",
        "colab_type": "code",
        "outputId": "82f8384d-03dd-4d98-d9b0-034406b2b3ec",
        "colab": {
          "base_uri": "https://localhost:8080/",
          "height": 1000
        }
      },
      "source": [
        "# calculate gradients\n",
        "loss_fn = torch.nn.CrossEntropyLoss()\n",
        "\n",
        "# update parameters by optimizer\n",
        "optimizer = torch.optim.Adam(model.parameters(), lr=0.001)\n",
        "history1 = fit(50, model, train_iterator, valid_iterator, optimizer, loss_fn)"
      ],
      "execution_count": 592,
      "outputs": [
        {
          "output_type": "stream",
          "text": [
            "Epoch [1], val_loss: 1.1017, val_acc: 0.3400\n",
            "*************************\n",
            "Epoch [2], val_loss: 1.0876, val_acc: 0.2800\n",
            "*************************\n",
            "Epoch [3], val_loss: 0.9974, val_acc: 0.5600\n",
            "*************************\n",
            "Epoch [4], val_loss: 1.0084, val_acc: 0.5800\n",
            "*************************\n",
            "Epoch [5], val_loss: 0.8604, val_acc: 0.6800\n",
            "*************************\n",
            "Epoch [6], val_loss: 0.8553, val_acc: 0.6600\n",
            "*************************\n",
            "Epoch [7], val_loss: 1.3765, val_acc: 0.6600\n",
            "*************************\n",
            "Epoch [8], val_loss: 1.5362, val_acc: 0.6200\n",
            "*************************\n",
            "Epoch [9], val_loss: 1.5765, val_acc: 0.6400\n",
            "*************************\n",
            "Epoch [10], val_loss: 1.6047, val_acc: 0.6600\n",
            "*************************\n",
            "Epoch [11], val_loss: 1.6235, val_acc: 0.6600\n",
            "*************************\n",
            "Epoch [12], val_loss: 1.6882, val_acc: 0.6800\n",
            "*************************\n",
            "Epoch [13], val_loss: 1.7152, val_acc: 0.6800\n",
            "*************************\n",
            "Epoch [14], val_loss: 1.7350, val_acc: 0.6800\n",
            "*************************\n",
            "Epoch [15], val_loss: 1.6970, val_acc: 0.7000\n",
            "*************************\n",
            "Epoch [16], val_loss: 1.6588, val_acc: 0.7000\n",
            "*************************\n",
            "Epoch [17], val_loss: 1.6572, val_acc: 0.7200\n",
            "*************************\n",
            "Epoch [18], val_loss: 1.7675, val_acc: 0.6800\n",
            "*************************\n",
            "Epoch [19], val_loss: 1.7389, val_acc: 0.6800\n",
            "*************************\n",
            "Epoch [20], val_loss: 1.6832, val_acc: 0.7000\n",
            "*************************\n",
            "Epoch [21], val_loss: 1.7199, val_acc: 0.6800\n",
            "*************************\n",
            "Epoch [22], val_loss: 1.7395, val_acc: 0.7000\n",
            "*************************\n",
            "Epoch [23], val_loss: 1.7456, val_acc: 0.7200\n",
            "*************************\n",
            "Epoch [24], val_loss: 1.7698, val_acc: 0.7200\n",
            "*************************\n",
            "Epoch [25], val_loss: 1.7892, val_acc: 0.7000\n",
            "*************************\n",
            "Epoch [26], val_loss: 1.7716, val_acc: 0.7200\n",
            "*************************\n",
            "Epoch [27], val_loss: 1.7722, val_acc: 0.7200\n",
            "*************************\n",
            "Epoch [28], val_loss: 1.7720, val_acc: 0.7200\n",
            "*************************\n",
            "Epoch [29], val_loss: 1.7793, val_acc: 0.7200\n",
            "*************************\n",
            "Epoch [30], val_loss: 1.7647, val_acc: 0.7200\n",
            "*************************\n",
            "Epoch [31], val_loss: 1.7752, val_acc: 0.7400\n",
            "*************************\n",
            "Epoch [32], val_loss: 1.7903, val_acc: 0.7400\n",
            "*************************\n",
            "Epoch [33], val_loss: 1.8092, val_acc: 0.7400\n",
            "*************************\n",
            "Epoch [34], val_loss: 2.0055, val_acc: 0.7000\n",
            "*************************\n",
            "Epoch [35], val_loss: 2.0037, val_acc: 0.7000\n",
            "*************************\n",
            "Epoch [36], val_loss: 2.0051, val_acc: 0.7000\n",
            "*************************\n",
            "Epoch [37], val_loss: 1.9527, val_acc: 0.7000\n",
            "*************************\n",
            "Epoch [38], val_loss: 1.8473, val_acc: 0.7200\n",
            "*************************\n",
            "Epoch [39], val_loss: 1.8562, val_acc: 0.7200\n",
            "*************************\n",
            "Epoch [40], val_loss: 1.8690, val_acc: 0.7400\n",
            "*************************\n",
            "Epoch [41], val_loss: 1.8833, val_acc: 0.7600\n",
            "*************************\n",
            "Epoch [42], val_loss: 1.9351, val_acc: 0.7400\n",
            "*************************\n",
            "Epoch [43], val_loss: 1.1038, val_acc: 0.6200\n",
            "*************************\n",
            "Epoch [44], val_loss: 1.2161, val_acc: 0.6200\n",
            "*************************\n",
            "Epoch [45], val_loss: 1.3534, val_acc: 0.6400\n",
            "*************************\n",
            "Epoch [46], val_loss: 1.4244, val_acc: 0.6600\n",
            "*************************\n",
            "Epoch [47], val_loss: 1.4732, val_acc: 0.6600\n",
            "*************************\n",
            "Epoch [48], val_loss: 1.5097, val_acc: 0.6600\n",
            "*************************\n",
            "Epoch [49], val_loss: 1.5269, val_acc: 0.6600\n",
            "*************************\n",
            "Epoch [50], val_loss: 1.5582, val_acc: 0.6600\n",
            "*************************\n"
          ],
          "name": "stdout"
        }
      ]
    },
    {
      "cell_type": "code",
      "metadata": {
        "id": "vGK5AVYJb13G",
        "colab_type": "code",
        "outputId": "10aac1e2-080a-47c3-e8e1-0cada50bbdc1",
        "colab": {
          "base_uri": "https://localhost:8080/",
          "height": 697
        }
      },
      "source": [
        "# update parameters by optimizer\n",
        "optimizer2 = torch.optim.Adam(model.parameters(), lr=0.0001)\n",
        "\n",
        "history2 = fit(20, model, train_iterator, valid_iterator, optimizer2, loss_fn)"
      ],
      "execution_count": 593,
      "outputs": [
        {
          "output_type": "stream",
          "text": [
            "Epoch [1], val_loss: 1.7024, val_acc: 0.6600\n",
            "*************************\n",
            "Epoch [2], val_loss: 1.8004, val_acc: 0.6800\n",
            "*************************\n",
            "Epoch [3], val_loss: 1.8683, val_acc: 0.6800\n",
            "*************************\n",
            "Epoch [4], val_loss: 1.9152, val_acc: 0.6800\n",
            "*************************\n",
            "Epoch [5], val_loss: 1.9596, val_acc: 0.6800\n",
            "*************************\n",
            "Epoch [6], val_loss: 2.0071, val_acc: 0.6800\n",
            "*************************\n",
            "Epoch [7], val_loss: 2.0361, val_acc: 0.6800\n",
            "*************************\n",
            "Epoch [8], val_loss: 2.0571, val_acc: 0.6800\n",
            "*************************\n",
            "Epoch [9], val_loss: 2.0984, val_acc: 0.6800\n",
            "*************************\n",
            "Epoch [10], val_loss: 2.1205, val_acc: 0.7000\n",
            "*************************\n",
            "Epoch [11], val_loss: 2.1351, val_acc: 0.7000\n",
            "*************************\n",
            "Epoch [12], val_loss: 2.1538, val_acc: 0.7000\n",
            "*************************\n",
            "Epoch [13], val_loss: 2.1693, val_acc: 0.7200\n",
            "*************************\n",
            "Epoch [14], val_loss: 2.1828, val_acc: 0.7200\n",
            "*************************\n",
            "Epoch [15], val_loss: 2.2104, val_acc: 0.7400\n",
            "*************************\n",
            "Epoch [16], val_loss: 2.2353, val_acc: 0.7400\n",
            "*************************\n",
            "Epoch [17], val_loss: 2.2658, val_acc: 0.7400\n",
            "*************************\n",
            "Epoch [18], val_loss: 2.2862, val_acc: 0.7400\n",
            "*************************\n",
            "Epoch [19], val_loss: 2.3065, val_acc: 0.7400\n",
            "*************************\n",
            "Epoch [20], val_loss: 2.3354, val_acc: 0.7400\n",
            "*************************\n"
          ],
          "name": "stdout"
        }
      ]
    },
    {
      "cell_type": "markdown",
      "metadata": {
        "id": "rC3joZvRqYfG",
        "colab_type": "text"
      },
      "source": [
        "### Learning History"
      ]
    },
    {
      "cell_type": "code",
      "metadata": {
        "id": "HWL_2ZDBbim7",
        "colab_type": "code",
        "outputId": "516cfcb1-79ef-48e4-8fd3-27d94a270298",
        "colab": {
          "base_uri": "https://localhost:8080/",
          "height": 299
        }
      },
      "source": [
        "history = history1 + history2\n",
        "accuracies = [result['val_acc'] for result in history]\n",
        "plt.plot(accuracies, '-x')\n",
        "plt.xlabel('epoch')\n",
        "plt.ylabel('accuracy')\n",
        "plt.title('Accuracy vs. No. of epochs');"
      ],
      "execution_count": 594,
      "outputs": [
        {
          "output_type": "display_data",
          "data": {
            "image/png": "[encoded data removed]",
            "text/plain": [
              "<Figure size 432x288 with 1 Axes>"
            ]
          },
          "metadata": {
            "tags": []
          }
        }
      ]
    },
    {
      "cell_type": "markdown",
      "metadata": {
        "id": "sZK26aFHiPgu",
        "colab_type": "text"
      },
      "source": [
        "### Evaluate results in test data\n"
      ]
    },
    {
      "cell_type": "code",
      "metadata": {
        "id": "YMNGn5tseMVU",
        "colab_type": "code",
        "outputId": "2ba6e0fb-be00-45eb-d8bb-43b6ad4a66c6",
        "colab": {
          "base_uri": "https://localhost:8080/",
          "height": 187
        }
      },
      "source": [
        "for batch in test_iterator:\n",
        "  with torch.no_grad():\n",
        "    outputs = model(batch.text)\n",
        "    print(outputs.argmax(dim=1), batch.polarity, accuracy(outputs, batch.polarity))"
      ],
      "execution_count": 595,
      "outputs": [
        {
          "output_type": "stream",
          "text": [
            "tensor([2, 1, 0, 2, 0], device='cuda:0') tensor([2, 1, 0, 2, 0], device='cuda:0') tensor(1.)\n",
            "tensor([0, 0, 0, 1, 2], device='cuda:0') tensor([0, 0, 2, 2, 2], device='cuda:0') tensor(0.6000)\n",
            "tensor([2, 1, 1, 1, 2], device='cuda:0') tensor([1, 1, 0, 1, 2], device='cuda:0') tensor(0.6000)\n",
            "tensor([1, 2, 0, 1, 2], device='cuda:0') tensor([1, 2, 1, 2, 1], device='cuda:0') tensor(0.4000)\n",
            "tensor([1, 1, 0, 0, 1], device='cuda:0') tensor([1, 1, 1, 1, 0], device='cuda:0') tensor(0.4000)\n",
            "tensor([1, 1, 0, 0, 1], device='cuda:0') tensor([1, 0, 1, 0, 0], device='cuda:0') tensor(0.4000)\n",
            "tensor([0, 0, 2, 1, 1], device='cuda:0') tensor([1, 0, 2, 1, 1], device='cuda:0') tensor(0.8000)\n",
            "tensor([1, 1, 1, 0, 1], device='cuda:0') tensor([1, 1, 1, 1, 0], device='cuda:0') tensor(0.6000)\n",
            "tensor([0, 1, 1, 0, 1], device='cuda:0') tensor([2, 1, 2, 0, 0], device='cuda:0') tensor(0.4000)\n",
            "tensor([0, 0, 0, 1, 0], device='cuda:0') tensor([0, 0, 0, 0, 0], device='cuda:0') tensor(0.8000)\n"
          ],
          "name": "stdout"
        }
      ]
    },
    {
      "cell_type": "markdown",
      "metadata": {
        "id": "KAteClO-iWW-",
        "colab_type": "text"
      },
      "source": [
        "### Production (?)\n"
      ]
    },
    {
      "cell_type": "code",
      "metadata": {
        "id": "QnaF7-rZ63B6",
        "colab_type": "code",
        "colab": {}
      },
      "source": [
        "def classify_tweet(tweet):\n",
        "  categories = dictcats\n",
        "  processed = TWEET.process([TWEET.preprocess(tweet)])\n",
        "  processed = processed.to('cuda')\n",
        "  with torch.no_grad():\n",
        "    return dictcats_names[categories[model(processed).argmax(dim=1).item()]]"
      ],
      "execution_count": 0,
      "outputs": []
    },
    {
      "cell_type": "code",
      "metadata": {
        "id": "U9lHba24fl_p",
        "colab_type": "code",
        "cellView": "form",
        "outputId": "31672e0e-3d7b-42c2-846d-3a552a06d00a",
        "colab": {
          "base_uri": "https://localhost:8080/",
          "height": 34
        }
      },
      "source": [
        "#@title ### Test the model!\n",
        "tweet_text = \"this is well\" #@param {type:\"string\"}\n",
        "classify_tweet(tweet_text)"
      ],
      "execution_count": 597,
      "outputs": [
        {
          "output_type": "execute_result",
          "data": {
            "text/plain": [
              "'neutral'"
            ]
          },
          "metadata": {
            "tags": []
          },
          "execution_count": 597
        }
      ]
    },
    {
      "cell_type": "markdown",
      "metadata": {
        "id": "ZAzMCNU3po_J",
        "colab_type": "text"
      },
      "source": [
        "## Advance: Data augmentation\n",
        "\n",
        "the paper “EDA: Easy Data Augmentation Techniques for\n",
        "Boosting Performance on Text Classification Tasks” suggested three other augmentation strategies: random insertion, random swap, and random\n",
        "deletion."
      ]
    },
    {
      "cell_type": "markdown",
      "metadata": {
        "id": "Pt3n6Wivrp0r",
        "colab_type": "text"
      },
      "source": [
        "### Random Insertion\n",
        "Replace words with synonyms"
      ]
    },
    {
      "cell_type": "markdown",
      "metadata": {
        "id": "ZcOm-BmZsNKa",
        "colab_type": "text"
      },
      "source": [
        "### Random Deletion\n",
        "Given a probability parameter p , it will go through the sentence and decide whether to delete a word or not based on that random probability:"
      ]
    },
    {
      "cell_type": "code",
      "metadata": {
        "id": "gI31OnYEefju",
        "colab_type": "code",
        "colab": {}
      },
      "source": [
        "import random\n",
        "def random_deletion(words, p=0.5):\n",
        "  if len(words) == 1:\n",
        "    return words\n",
        "  remaining = list(filter(lambda x: random.uniform(0,1) > p,words))\n",
        "  print(\"Remaining: \", remaining)\n",
        "  if len(remaining) == 0:\n",
        "    return [random.choice(words)]\n",
        "  else:\n",
        "    return remaining"
      ],
      "execution_count": 0,
      "outputs": []
    },
    {
      "cell_type": "code",
      "metadata": {
        "id": "sPNvPse6tnnG",
        "colab_type": "code",
        "colab": {
          "base_uri": "https://localhost:8080/",
          "height": 85
        },
        "outputId": "e2fa0911-9700-445c-d008-efa5bdce90e0"
      },
      "source": [
        "print(random_deletion([\"aloha\"]))\n",
        "print(15*\"*\")\n",
        "print(random_deletion([\"aloha\", \"pepe\", \"ddfsfsd\"]))"
      ],
      "execution_count": 298,
      "outputs": [
        {
          "output_type": "stream",
          "text": [
            "['aloha']\n",
            "***************\n",
            "Remaining:  ['ddfsfsd']\n",
            "['ddfsfsd']\n"
          ],
          "name": "stdout"
        }
      ]
    },
    {
      "cell_type": "markdown",
      "metadata": {
        "id": "QLsyYfzOvUzo",
        "colab_type": "text"
      },
      "source": [
        "### Random Swap\n",
        "Swaps words within it n times"
      ]
    },
    {
      "cell_type": "code",
      "metadata": {
        "id": "DIqnEfAxvicU",
        "colab_type": "code",
        "colab": {}
      },
      "source": [
        "def random_swap(sentence, n=5):\n",
        "  length = range(len(sentence))\n",
        "  for _ in range(n):\n",
        "    idx1, idx2 = random.sample(length, 2)\n",
        "    sentence[idx1], sentence[idx2] = sentence[idx2], sentence[idx1]\n",
        "  return sentence"
      ],
      "execution_count": 0,
      "outputs": []
    },
    {
      "cell_type": "code",
      "metadata": {
        "id": "bmC7pXA4voT5",
        "colab_type": "code",
        "colab": {
          "base_uri": "https://localhost:8080/",
          "height": 34
        },
        "outputId": "f8afdcd4-baf8-4256-af35-442f898204e3"
      },
      "source": [
        "random_swap(\"i am very proud of you\".split(\" \"), n=2)"
      ],
      "execution_count": 300,
      "outputs": [
        {
          "output_type": "execute_result",
          "data": {
            "text/plain": [
              "['am', 'i', 'very', 'of', 'proud', 'you']"
            ]
          },
          "metadata": {
            "tags": []
          },
          "execution_count": 300
        }
      ]
    },
    {
      "cell_type": "markdown",
      "metadata": {
        "id": "j0cKvVr1wTz9",
        "colab_type": "text"
      },
      "source": [
        "### Back Translation\n",
        "English => any language => English again\n",
        "\n",
        "Note: take care about been banned from google_translate. They could be detect your Ip. So Use it with caution and batched "
      ]
    },
    {
      "cell_type": "code",
      "metadata": {
        "id": "ijdxCoGtwxx5",
        "colab_type": "code",
        "colab": {
          "base_uri": "https://localhost:8080/",
          "height": 139
        },
        "outputId": "c4e52138-03c8-41dd-f542-a90766b0fbb7"
      },
      "source": [
        "!pip install googletrans"
      ],
      "execution_count": 304,
      "outputs": [
        {
          "output_type": "stream",
          "text": [
            "Requirement already satisfied: googletrans in /usr/local/lib/python3.6/dist-packages (2.4.0)\n",
            "Requirement already satisfied: requests in /usr/local/lib/python3.6/dist-packages (from googletrans) (2.23.0)\n",
            "Requirement already satisfied: idna<3,>=2.5 in /usr/local/lib/python3.6/dist-packages (from requests->googletrans) (2.9)\n",
            "Requirement already satisfied: certifi>=2017.4.17 in /usr/local/lib/python3.6/dist-packages (from requests->googletrans) (2020.4.5.1)\n",
            "Requirement already satisfied: urllib3!=1.25.0,!=1.25.1,<1.26,>=1.21.1 in /usr/local/lib/python3.6/dist-packages (from requests->googletrans) (1.24.3)\n",
            "Requirement already satisfied: chardet<4,>=3.0.2 in /usr/local/lib/python3.6/dist-packages (from requests->googletrans) (3.0.4)\n"
          ],
          "name": "stdout"
        }
      ]
    },
    {
      "cell_type": "code",
      "metadata": {
        "id": "Cb-wH_aYwkrU",
        "colab_type": "code",
        "colab": {
          "base_uri": "https://localhost:8080/",
          "height": 34
        },
        "outputId": "f9bbb1c8-1243-4353-8392-e4e8e5dd67ca"
      },
      "source": [
        "import googletrans\n",
        "from googletrans import Translator \n",
        "\n",
        "translator = Translator()\n",
        "sentences = ['The cat sat on the carpet']\n",
        "\n",
        "translation_es = translator.translate(sentences, dest='es')\n",
        "es_text = [t.text for t in translation_es]\n",
        "\n",
        "translation_fr = translator.translate(es_text, dest='fr')\n",
        "fr_text = [t.text for t in translation_fr]\n",
        "\n",
        "translation_en = translator.translate(fr_text, dest='en')\n",
        "en_text = [t.text for t in translation_en]\n",
        "\n",
        "print(en_text)"
      ],
      "execution_count": 310,
      "outputs": [
        {
          "output_type": "stream",
          "text": [
            "['The cat sat on the mat']\n"
          ],
          "name": "stdout"
        }
      ]
    },
    {
      "cell_type": "markdown",
      "metadata": {
        "id": "lYn-O3bzy5Fd",
        "colab_type": "text"
      },
      "source": [
        "### Torchtext utils???\n",
        "Expand this section with other technics.\n",
        "\n",
        "Although, torch leans on spacy to do preprocessing."
      ]
    },
    {
      "cell_type": "markdown",
      "metadata": {
        "id": "v5m87g2wz2Kt",
        "colab_type": "text"
      },
      "source": [
        "## Next steps\n",
        "\n",
        "- you can increase num_layers to create stacked LSTMs, \n",
        "- increase or decrease the number of hidden features in the layer, \n",
        "- set bidirectional=true to create a biLSTM. \n",
        "\n",
        "- replacing lstm wit gru\n",
        "does it train faster? Is it more accurate? (Experiment and see what you find)"
      ]
    }
  ]
}